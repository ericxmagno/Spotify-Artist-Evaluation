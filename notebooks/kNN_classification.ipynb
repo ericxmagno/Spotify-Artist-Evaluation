{
 "cells": [
  {
   "cell_type": "markdown",
   "metadata": {},
   "source": [
    "## Importing Libraries"
   ]
  },
  {
   "cell_type": "code",
   "execution_count": 1,
   "metadata": {},
   "outputs": [],
   "source": [
    "# importing the libraries for data processing\n",
    "import numpy as np \n",
    "import pandas as pd \n",
    "\n",
    "#matplotlib & seaborn for visualizations\n",
    "import matplotlib.pyplot as plt\n",
    "import seaborn as sns\n",
    "%matplotlib inline"
   ]
  },
  {
   "cell_type": "markdown",
   "metadata": {},
   "source": [
    "## Loading the datasets\n",
    "1. `spotify_daily_charts` : top 200 songs in the daily charts, has the streams count  \n",
    "2. `spotify_daily_charts_tracks` : Has the audio features, duration and released date of the tracks in the top 200 charts  \n",
    "3. `spotify_daily_charts_artists` : Has the genre information of the artist, total followers and popularity"
   ]
  },
  {
   "cell_type": "code",
   "execution_count": 2,
   "metadata": {
    "scrolled": true
   },
   "outputs": [
    {
     "data": {
      "text/html": [
       "<div>\n",
       "<style scoped>\n",
       "    .dataframe tbody tr th:only-of-type {\n",
       "        vertical-align: middle;\n",
       "    }\n",
       "\n",
       "    .dataframe tbody tr th {\n",
       "        vertical-align: top;\n",
       "    }\n",
       "\n",
       "    .dataframe thead th {\n",
       "        text-align: right;\n",
       "    }\n",
       "</style>\n",
       "<table border=\"1\" class=\"dataframe\">\n",
       "  <thead>\n",
       "    <tr style=\"text-align: right;\">\n",
       "      <th></th>\n",
       "      <th>date</th>\n",
       "      <th>position</th>\n",
       "      <th>track_id</th>\n",
       "      <th>track_name</th>\n",
       "      <th>artist</th>\n",
       "      <th>streams</th>\n",
       "    </tr>\n",
       "  </thead>\n",
       "  <tbody>\n",
       "    <tr>\n",
       "      <th>0</th>\n",
       "      <td>2017-01-01</td>\n",
       "      <td>1</td>\n",
       "      <td>0kN8xEmgMW9mh7UmDYHlJP</td>\n",
       "      <td>Versace on the Floor</td>\n",
       "      <td>Bruno Mars</td>\n",
       "      <td>185236</td>\n",
       "    </tr>\n",
       "    <tr>\n",
       "      <th>1</th>\n",
       "      <td>2017-01-01</td>\n",
       "      <td>2</td>\n",
       "      <td>5uCax9HTNlzGybIStD3vDh</td>\n",
       "      <td>Say You Won't Let Go</td>\n",
       "      <td>James Arthur</td>\n",
       "      <td>180552</td>\n",
       "    </tr>\n",
       "    <tr>\n",
       "      <th>2</th>\n",
       "      <td>2017-01-01</td>\n",
       "      <td>3</td>\n",
       "      <td>7BKLCZ1jbUBVqRi2FVlTVw</td>\n",
       "      <td>Closer</td>\n",
       "      <td>The Chainsmokers</td>\n",
       "      <td>158720</td>\n",
       "    </tr>\n",
       "    <tr>\n",
       "      <th>3</th>\n",
       "      <td>2017-01-01</td>\n",
       "      <td>4</td>\n",
       "      <td>2rizacJSyD9S1IQUxUxnsK</td>\n",
       "      <td>All We Know</td>\n",
       "      <td>The Chainsmokers</td>\n",
       "      <td>130874</td>\n",
       "    </tr>\n",
       "    <tr>\n",
       "      <th>4</th>\n",
       "      <td>2017-01-01</td>\n",
       "      <td>5</td>\n",
       "      <td>5MFzQMkrl1FOOng9tq6R9r</td>\n",
       "      <td>Don't Wanna Know</td>\n",
       "      <td>Maroon 5</td>\n",
       "      <td>129656</td>\n",
       "    </tr>\n",
       "  </tbody>\n",
       "</table>\n",
       "</div>"
      ],
      "text/plain": [
       "        date  position                track_id            track_name  \\\n",
       "0 2017-01-01         1  0kN8xEmgMW9mh7UmDYHlJP  Versace on the Floor   \n",
       "1 2017-01-01         2  5uCax9HTNlzGybIStD3vDh  Say You Won't Let Go   \n",
       "2 2017-01-01         3  7BKLCZ1jbUBVqRi2FVlTVw                Closer   \n",
       "3 2017-01-01         4  2rizacJSyD9S1IQUxUxnsK           All We Know   \n",
       "4 2017-01-01         5  5MFzQMkrl1FOOng9tq6R9r      Don't Wanna Know   \n",
       "\n",
       "             artist  streams  \n",
       "0        Bruno Mars   185236  \n",
       "1      James Arthur   180552  \n",
       "2  The Chainsmokers   158720  \n",
       "3  The Chainsmokers   130874  \n",
       "4          Maroon 5   129656  "
      ]
     },
     "execution_count": 2,
     "metadata": {},
     "output_type": "execute_result"
    }
   ],
   "source": [
    "# read and process the charts dataset\n",
    "charts_df = pd.read_csv('data/spotify_daily_charts.csv')\n",
    "\n",
    "#transform date column into a datetime column\n",
    "charts_df['date'] = pd.to_datetime(charts_df['date'])\n",
    "charts_df.head()"
   ]
  },
  {
   "cell_type": "code",
   "execution_count": 3,
   "metadata": {
    "scrolled": true
   },
   "outputs": [
    {
     "data": {
      "text/html": [
       "<div>\n",
       "<style scoped>\n",
       "    .dataframe tbody tr th:only-of-type {\n",
       "        vertical-align: middle;\n",
       "    }\n",
       "\n",
       "    .dataframe tbody tr th {\n",
       "        vertical-align: top;\n",
       "    }\n",
       "\n",
       "    .dataframe thead th {\n",
       "        text-align: right;\n",
       "    }\n",
       "</style>\n",
       "<table border=\"1\" class=\"dataframe\">\n",
       "  <thead>\n",
       "    <tr style=\"text-align: right;\">\n",
       "      <th></th>\n",
       "      <th>track_id</th>\n",
       "      <th>track_name</th>\n",
       "      <th>artist_id</th>\n",
       "      <th>artist_name</th>\n",
       "      <th>album_id</th>\n",
       "      <th>duration</th>\n",
       "      <th>release_date</th>\n",
       "      <th>popularity</th>\n",
       "      <th>danceability</th>\n",
       "      <th>energy</th>\n",
       "      <th>key</th>\n",
       "      <th>loudness</th>\n",
       "      <th>mode</th>\n",
       "      <th>speechiness</th>\n",
       "      <th>acousticness</th>\n",
       "      <th>instrumentalness</th>\n",
       "      <th>liveness</th>\n",
       "      <th>valence</th>\n",
       "      <th>tempo</th>\n",
       "    </tr>\n",
       "  </thead>\n",
       "  <tbody>\n",
       "    <tr>\n",
       "      <th>0</th>\n",
       "      <td>0kN8xEmgMW9mh7UmDYHlJP</td>\n",
       "      <td>Versace on the Floor</td>\n",
       "      <td>0du5cEVh5yTK9QJze8zA0C</td>\n",
       "      <td>Bruno Mars</td>\n",
       "      <td>4PgleR09JVnm3zY1fW3XBA</td>\n",
       "      <td>261240</td>\n",
       "      <td>2016-11-17</td>\n",
       "      <td>76</td>\n",
       "      <td>0.578</td>\n",
       "      <td>0.574</td>\n",
       "      <td>2</td>\n",
       "      <td>-6.209</td>\n",
       "      <td>1</td>\n",
       "      <td>0.0454</td>\n",
       "      <td>0.196</td>\n",
       "      <td>0.00000</td>\n",
       "      <td>0.0830</td>\n",
       "      <td>0.301</td>\n",
       "      <td>174.152</td>\n",
       "    </tr>\n",
       "    <tr>\n",
       "      <th>1</th>\n",
       "      <td>5uCax9HTNlzGybIStD3vDh</td>\n",
       "      <td>Say You Won't Let Go</td>\n",
       "      <td>4IWBUUAFIplrNtaOHcJPRM</td>\n",
       "      <td>James Arthur</td>\n",
       "      <td>7oiJYvEJHsmYtrgviAVIBD</td>\n",
       "      <td>211466</td>\n",
       "      <td>2016-10-28</td>\n",
       "      <td>88</td>\n",
       "      <td>0.358</td>\n",
       "      <td>0.557</td>\n",
       "      <td>10</td>\n",
       "      <td>-7.398</td>\n",
       "      <td>1</td>\n",
       "      <td>0.0590</td>\n",
       "      <td>0.695</td>\n",
       "      <td>0.00000</td>\n",
       "      <td>0.0902</td>\n",
       "      <td>0.494</td>\n",
       "      <td>85.043</td>\n",
       "    </tr>\n",
       "    <tr>\n",
       "      <th>2</th>\n",
       "      <td>7BKLCZ1jbUBVqRi2FVlTVw</td>\n",
       "      <td>Closer</td>\n",
       "      <td>69GGBxA162lTqCwzJG5jLp</td>\n",
       "      <td>The Chainsmokers</td>\n",
       "      <td>0rSLgV8p5FzfnqlEk4GzxE</td>\n",
       "      <td>244960</td>\n",
       "      <td>2016-07-29</td>\n",
       "      <td>87</td>\n",
       "      <td>0.748</td>\n",
       "      <td>0.524</td>\n",
       "      <td>8</td>\n",
       "      <td>-5.599</td>\n",
       "      <td>1</td>\n",
       "      <td>0.0338</td>\n",
       "      <td>0.414</td>\n",
       "      <td>0.00000</td>\n",
       "      <td>0.1110</td>\n",
       "      <td>0.661</td>\n",
       "      <td>95.010</td>\n",
       "    </tr>\n",
       "    <tr>\n",
       "      <th>3</th>\n",
       "      <td>2rizacJSyD9S1IQUxUxnsK</td>\n",
       "      <td>All We Know</td>\n",
       "      <td>69GGBxA162lTqCwzJG5jLp</td>\n",
       "      <td>The Chainsmokers</td>\n",
       "      <td>0xmaV6EtJ4M3ebZUPRnhyb</td>\n",
       "      <td>194080</td>\n",
       "      <td>2016-09-29</td>\n",
       "      <td>71</td>\n",
       "      <td>0.662</td>\n",
       "      <td>0.586</td>\n",
       "      <td>0</td>\n",
       "      <td>-8.821</td>\n",
       "      <td>1</td>\n",
       "      <td>0.0307</td>\n",
       "      <td>0.097</td>\n",
       "      <td>0.00272</td>\n",
       "      <td>0.1150</td>\n",
       "      <td>0.296</td>\n",
       "      <td>90.000</td>\n",
       "    </tr>\n",
       "    <tr>\n",
       "      <th>4</th>\n",
       "      <td>5MFzQMkrl1FOOng9tq6R9r</td>\n",
       "      <td>Don't Wanna Know</td>\n",
       "      <td>04gDigrS5kc9YWfZHwBETP</td>\n",
       "      <td>Maroon 5</td>\n",
       "      <td>0fvTn3WXF39kQs9i3bnNpP</td>\n",
       "      <td>214480</td>\n",
       "      <td>2016-10-11</td>\n",
       "      <td>1</td>\n",
       "      <td>0.783</td>\n",
       "      <td>0.623</td>\n",
       "      <td>7</td>\n",
       "      <td>-6.126</td>\n",
       "      <td>1</td>\n",
       "      <td>0.0800</td>\n",
       "      <td>0.338</td>\n",
       "      <td>0.00000</td>\n",
       "      <td>0.0975</td>\n",
       "      <td>0.447</td>\n",
       "      <td>100.048</td>\n",
       "    </tr>\n",
       "  </tbody>\n",
       "</table>\n",
       "</div>"
      ],
      "text/plain": [
       "                 track_id            track_name               artist_id  \\\n",
       "0  0kN8xEmgMW9mh7UmDYHlJP  Versace on the Floor  0du5cEVh5yTK9QJze8zA0C   \n",
       "1  5uCax9HTNlzGybIStD3vDh  Say You Won't Let Go  4IWBUUAFIplrNtaOHcJPRM   \n",
       "2  7BKLCZ1jbUBVqRi2FVlTVw                Closer  69GGBxA162lTqCwzJG5jLp   \n",
       "3  2rizacJSyD9S1IQUxUxnsK           All We Know  69GGBxA162lTqCwzJG5jLp   \n",
       "4  5MFzQMkrl1FOOng9tq6R9r      Don't Wanna Know  04gDigrS5kc9YWfZHwBETP   \n",
       "\n",
       "        artist_name                album_id  duration release_date  \\\n",
       "0        Bruno Mars  4PgleR09JVnm3zY1fW3XBA    261240   2016-11-17   \n",
       "1      James Arthur  7oiJYvEJHsmYtrgviAVIBD    211466   2016-10-28   \n",
       "2  The Chainsmokers  0rSLgV8p5FzfnqlEk4GzxE    244960   2016-07-29   \n",
       "3  The Chainsmokers  0xmaV6EtJ4M3ebZUPRnhyb    194080   2016-09-29   \n",
       "4          Maroon 5  0fvTn3WXF39kQs9i3bnNpP    214480   2016-10-11   \n",
       "\n",
       "   popularity  danceability  energy  key  loudness  mode  speechiness  \\\n",
       "0          76         0.578   0.574    2    -6.209     1       0.0454   \n",
       "1          88         0.358   0.557   10    -7.398     1       0.0590   \n",
       "2          87         0.748   0.524    8    -5.599     1       0.0338   \n",
       "3          71         0.662   0.586    0    -8.821     1       0.0307   \n",
       "4           1         0.783   0.623    7    -6.126     1       0.0800   \n",
       "\n",
       "   acousticness  instrumentalness  liveness  valence    tempo  \n",
       "0         0.196           0.00000    0.0830    0.301  174.152  \n",
       "1         0.695           0.00000    0.0902    0.494   85.043  \n",
       "2         0.414           0.00000    0.1110    0.661   95.010  \n",
       "3         0.097           0.00272    0.1150    0.296   90.000  \n",
       "4         0.338           0.00000    0.0975    0.447  100.048  "
      ]
     },
     "execution_count": 3,
     "metadata": {},
     "output_type": "execute_result"
    }
   ],
   "source": [
    "# read and process the tracks dataset\n",
    "tracks_df = pd.read_csv('data/spotify_daily_charts_tracks.csv')\n",
    "tracks_df.head()"
   ]
  },
  {
   "cell_type": "code",
   "execution_count": 4,
   "metadata": {},
   "outputs": [
    {
     "data": {
      "text/html": [
       "<div>\n",
       "<style scoped>\n",
       "    .dataframe tbody tr th:only-of-type {\n",
       "        vertical-align: middle;\n",
       "    }\n",
       "\n",
       "    .dataframe tbody tr th {\n",
       "        vertical-align: top;\n",
       "    }\n",
       "\n",
       "    .dataframe thead th {\n",
       "        text-align: right;\n",
       "    }\n",
       "</style>\n",
       "<table border=\"1\" class=\"dataframe\">\n",
       "  <thead>\n",
       "    <tr style=\"text-align: right;\">\n",
       "      <th></th>\n",
       "      <th>date</th>\n",
       "      <th>position</th>\n",
       "      <th>track_id</th>\n",
       "      <th>track_name</th>\n",
       "      <th>artist</th>\n",
       "      <th>streams</th>\n",
       "      <th>artist_id</th>\n",
       "      <th>artist_name</th>\n",
       "      <th>album_id</th>\n",
       "      <th>duration</th>\n",
       "      <th>...</th>\n",
       "      <th>energy</th>\n",
       "      <th>key</th>\n",
       "      <th>loudness</th>\n",
       "      <th>mode</th>\n",
       "      <th>speechiness</th>\n",
       "      <th>acousticness</th>\n",
       "      <th>instrumentalness</th>\n",
       "      <th>liveness</th>\n",
       "      <th>valence</th>\n",
       "      <th>tempo</th>\n",
       "    </tr>\n",
       "  </thead>\n",
       "  <tbody>\n",
       "    <tr>\n",
       "      <th>0</th>\n",
       "      <td>2017-01-01</td>\n",
       "      <td>1</td>\n",
       "      <td>0kN8xEmgMW9mh7UmDYHlJP</td>\n",
       "      <td>Versace on the Floor</td>\n",
       "      <td>Bruno Mars</td>\n",
       "      <td>185236</td>\n",
       "      <td>0du5cEVh5yTK9QJze8zA0C</td>\n",
       "      <td>Bruno Mars</td>\n",
       "      <td>4PgleR09JVnm3zY1fW3XBA</td>\n",
       "      <td>261240</td>\n",
       "      <td>...</td>\n",
       "      <td>0.574</td>\n",
       "      <td>2</td>\n",
       "      <td>-6.209</td>\n",
       "      <td>1</td>\n",
       "      <td>0.0454</td>\n",
       "      <td>0.196</td>\n",
       "      <td>0.00000</td>\n",
       "      <td>0.0830</td>\n",
       "      <td>0.301</td>\n",
       "      <td>174.152</td>\n",
       "    </tr>\n",
       "    <tr>\n",
       "      <th>1</th>\n",
       "      <td>2017-01-01</td>\n",
       "      <td>2</td>\n",
       "      <td>5uCax9HTNlzGybIStD3vDh</td>\n",
       "      <td>Say You Won't Let Go</td>\n",
       "      <td>James Arthur</td>\n",
       "      <td>180552</td>\n",
       "      <td>4IWBUUAFIplrNtaOHcJPRM</td>\n",
       "      <td>James Arthur</td>\n",
       "      <td>7oiJYvEJHsmYtrgviAVIBD</td>\n",
       "      <td>211466</td>\n",
       "      <td>...</td>\n",
       "      <td>0.557</td>\n",
       "      <td>10</td>\n",
       "      <td>-7.398</td>\n",
       "      <td>1</td>\n",
       "      <td>0.0590</td>\n",
       "      <td>0.695</td>\n",
       "      <td>0.00000</td>\n",
       "      <td>0.0902</td>\n",
       "      <td>0.494</td>\n",
       "      <td>85.043</td>\n",
       "    </tr>\n",
       "    <tr>\n",
       "      <th>2</th>\n",
       "      <td>2017-01-01</td>\n",
       "      <td>3</td>\n",
       "      <td>7BKLCZ1jbUBVqRi2FVlTVw</td>\n",
       "      <td>Closer</td>\n",
       "      <td>The Chainsmokers</td>\n",
       "      <td>158720</td>\n",
       "      <td>69GGBxA162lTqCwzJG5jLp</td>\n",
       "      <td>The Chainsmokers</td>\n",
       "      <td>0rSLgV8p5FzfnqlEk4GzxE</td>\n",
       "      <td>244960</td>\n",
       "      <td>...</td>\n",
       "      <td>0.524</td>\n",
       "      <td>8</td>\n",
       "      <td>-5.599</td>\n",
       "      <td>1</td>\n",
       "      <td>0.0338</td>\n",
       "      <td>0.414</td>\n",
       "      <td>0.00000</td>\n",
       "      <td>0.1110</td>\n",
       "      <td>0.661</td>\n",
       "      <td>95.010</td>\n",
       "    </tr>\n",
       "    <tr>\n",
       "      <th>3</th>\n",
       "      <td>2017-01-01</td>\n",
       "      <td>4</td>\n",
       "      <td>2rizacJSyD9S1IQUxUxnsK</td>\n",
       "      <td>All We Know</td>\n",
       "      <td>The Chainsmokers</td>\n",
       "      <td>130874</td>\n",
       "      <td>69GGBxA162lTqCwzJG5jLp</td>\n",
       "      <td>The Chainsmokers</td>\n",
       "      <td>0xmaV6EtJ4M3ebZUPRnhyb</td>\n",
       "      <td>194080</td>\n",
       "      <td>...</td>\n",
       "      <td>0.586</td>\n",
       "      <td>0</td>\n",
       "      <td>-8.821</td>\n",
       "      <td>1</td>\n",
       "      <td>0.0307</td>\n",
       "      <td>0.097</td>\n",
       "      <td>0.00272</td>\n",
       "      <td>0.1150</td>\n",
       "      <td>0.296</td>\n",
       "      <td>90.000</td>\n",
       "    </tr>\n",
       "    <tr>\n",
       "      <th>4</th>\n",
       "      <td>2017-01-01</td>\n",
       "      <td>5</td>\n",
       "      <td>5MFzQMkrl1FOOng9tq6R9r</td>\n",
       "      <td>Don't Wanna Know</td>\n",
       "      <td>Maroon 5</td>\n",
       "      <td>129656</td>\n",
       "      <td>04gDigrS5kc9YWfZHwBETP</td>\n",
       "      <td>Maroon 5</td>\n",
       "      <td>0fvTn3WXF39kQs9i3bnNpP</td>\n",
       "      <td>214480</td>\n",
       "      <td>...</td>\n",
       "      <td>0.623</td>\n",
       "      <td>7</td>\n",
       "      <td>-6.126</td>\n",
       "      <td>1</td>\n",
       "      <td>0.0800</td>\n",
       "      <td>0.338</td>\n",
       "      <td>0.00000</td>\n",
       "      <td>0.0975</td>\n",
       "      <td>0.447</td>\n",
       "      <td>100.048</td>\n",
       "    </tr>\n",
       "  </tbody>\n",
       "</table>\n",
       "<p>5 rows × 23 columns</p>\n",
       "</div>"
      ],
      "text/plain": [
       "        date  position                track_id            track_name  \\\n",
       "0 2017-01-01         1  0kN8xEmgMW9mh7UmDYHlJP  Versace on the Floor   \n",
       "1 2017-01-01         2  5uCax9HTNlzGybIStD3vDh  Say You Won't Let Go   \n",
       "2 2017-01-01         3  7BKLCZ1jbUBVqRi2FVlTVw                Closer   \n",
       "3 2017-01-01         4  2rizacJSyD9S1IQUxUxnsK           All We Know   \n",
       "4 2017-01-01         5  5MFzQMkrl1FOOng9tq6R9r      Don't Wanna Know   \n",
       "\n",
       "             artist  streams               artist_id       artist_name  \\\n",
       "0        Bruno Mars   185236  0du5cEVh5yTK9QJze8zA0C        Bruno Mars   \n",
       "1      James Arthur   180552  4IWBUUAFIplrNtaOHcJPRM      James Arthur   \n",
       "2  The Chainsmokers   158720  69GGBxA162lTqCwzJG5jLp  The Chainsmokers   \n",
       "3  The Chainsmokers   130874  69GGBxA162lTqCwzJG5jLp  The Chainsmokers   \n",
       "4          Maroon 5   129656  04gDigrS5kc9YWfZHwBETP          Maroon 5   \n",
       "\n",
       "                 album_id  duration  ... energy  key  loudness  mode  \\\n",
       "0  4PgleR09JVnm3zY1fW3XBA    261240  ...  0.574    2    -6.209     1   \n",
       "1  7oiJYvEJHsmYtrgviAVIBD    211466  ...  0.557   10    -7.398     1   \n",
       "2  0rSLgV8p5FzfnqlEk4GzxE    244960  ...  0.524    8    -5.599     1   \n",
       "3  0xmaV6EtJ4M3ebZUPRnhyb    194080  ...  0.586    0    -8.821     1   \n",
       "4  0fvTn3WXF39kQs9i3bnNpP    214480  ...  0.623    7    -6.126     1   \n",
       "\n",
       "   speechiness  acousticness  instrumentalness  liveness  valence    tempo  \n",
       "0       0.0454         0.196           0.00000    0.0830    0.301  174.152  \n",
       "1       0.0590         0.695           0.00000    0.0902    0.494   85.043  \n",
       "2       0.0338         0.414           0.00000    0.1110    0.661   95.010  \n",
       "3       0.0307         0.097           0.00272    0.1150    0.296   90.000  \n",
       "4       0.0800         0.338           0.00000    0.0975    0.447  100.048  \n",
       "\n",
       "[5 rows x 23 columns]"
      ]
     },
     "execution_count": 4,
     "metadata": {},
     "output_type": "execute_result"
    }
   ],
   "source": [
    "#merge the charts and tracks dataset\n",
    "df = charts_df.merge(tracks_df, on='track_id', how='left')\n",
    "\n",
    "df = df.drop(columns='track_name_y')\n",
    "df = df.rename(columns={'track_name_x':'track_name'})\n",
    "df.head()"
   ]
  },
  {
   "cell_type": "markdown",
   "metadata": {},
   "source": [
    "How many unique artists in `df`? How many unique tracks?"
   ]
  },
  {
   "cell_type": "code",
   "execution_count": 5,
   "metadata": {
    "scrolled": true
   },
   "outputs": [
    {
     "data": {
      "text/plain": [
       "762"
      ]
     },
     "execution_count": 5,
     "metadata": {},
     "output_type": "execute_result"
    }
   ],
   "source": [
    "df['artist'].nunique()"
   ]
  },
  {
   "cell_type": "code",
   "execution_count": 6,
   "metadata": {},
   "outputs": [
    {
     "data": {
      "text/plain": [
       "(3284, 2566)"
      ]
     },
     "execution_count": 6,
     "metadata": {},
     "output_type": "execute_result"
    }
   ],
   "source": [
    "(df['track_id'].nunique(), df['track_name'].nunique())"
   ]
  },
  {
   "cell_type": "code",
   "execution_count": 7,
   "metadata": {
    "scrolled": true
   },
   "outputs": [
    {
     "data": {
      "text/html": [
       "<div>\n",
       "<style scoped>\n",
       "    .dataframe tbody tr th:only-of-type {\n",
       "        vertical-align: middle;\n",
       "    }\n",
       "\n",
       "    .dataframe tbody tr th {\n",
       "        vertical-align: top;\n",
       "    }\n",
       "\n",
       "    .dataframe thead th {\n",
       "        text-align: right;\n",
       "    }\n",
       "</style>\n",
       "<table border=\"1\" class=\"dataframe\">\n",
       "  <thead>\n",
       "    <tr style=\"text-align: right;\">\n",
       "      <th></th>\n",
       "      <th>artist_id</th>\n",
       "      <th>artist_name</th>\n",
       "      <th>total_followers</th>\n",
       "      <th>genres</th>\n",
       "      <th>popularity</th>\n",
       "    </tr>\n",
       "  </thead>\n",
       "  <tbody>\n",
       "    <tr>\n",
       "      <th>0</th>\n",
       "      <td>0du5cEVh5yTK9QJze8zA0C</td>\n",
       "      <td>Bruno Mars</td>\n",
       "      <td>28322108</td>\n",
       "      <td>['dance pop', 'pop']</td>\n",
       "      <td>88</td>\n",
       "    </tr>\n",
       "    <tr>\n",
       "      <th>1</th>\n",
       "      <td>4IWBUUAFIplrNtaOHcJPRM</td>\n",
       "      <td>James Arthur</td>\n",
       "      <td>7279217</td>\n",
       "      <td>['pop', 'talent show', 'uk pop']</td>\n",
       "      <td>86</td>\n",
       "    </tr>\n",
       "    <tr>\n",
       "      <th>2</th>\n",
       "      <td>69GGBxA162lTqCwzJG5jLp</td>\n",
       "      <td>The Chainsmokers</td>\n",
       "      <td>17241689</td>\n",
       "      <td>['dance pop', 'edm', 'electropop', 'pop', 'pop...</td>\n",
       "      <td>85</td>\n",
       "    </tr>\n",
       "    <tr>\n",
       "      <th>3</th>\n",
       "      <td>04gDigrS5kc9YWfZHwBETP</td>\n",
       "      <td>Maroon 5</td>\n",
       "      <td>28845735</td>\n",
       "      <td>['pop', 'pop rock']</td>\n",
       "      <td>88</td>\n",
       "    </tr>\n",
       "    <tr>\n",
       "      <th>4</th>\n",
       "      <td>5p7f24Rk5HkUZsaS3BLG5F</td>\n",
       "      <td>Hailee Steinfeld</td>\n",
       "      <td>6407022</td>\n",
       "      <td>['dance pop', 'pop', 'pop dance', 'post-teen p...</td>\n",
       "      <td>78</td>\n",
       "    </tr>\n",
       "  </tbody>\n",
       "</table>\n",
       "</div>"
      ],
      "text/plain": [
       "                artist_id       artist_name  total_followers  \\\n",
       "0  0du5cEVh5yTK9QJze8zA0C        Bruno Mars         28322108   \n",
       "1  4IWBUUAFIplrNtaOHcJPRM      James Arthur          7279217   \n",
       "2  69GGBxA162lTqCwzJG5jLp  The Chainsmokers         17241689   \n",
       "3  04gDigrS5kc9YWfZHwBETP          Maroon 5         28845735   \n",
       "4  5p7f24Rk5HkUZsaS3BLG5F  Hailee Steinfeld          6407022   \n",
       "\n",
       "                                              genres  popularity  \n",
       "0                               ['dance pop', 'pop']          88  \n",
       "1                   ['pop', 'talent show', 'uk pop']          86  \n",
       "2  ['dance pop', 'edm', 'electropop', 'pop', 'pop...          85  \n",
       "3                                ['pop', 'pop rock']          88  \n",
       "4  ['dance pop', 'pop', 'pop dance', 'post-teen p...          78  "
      ]
     },
     "execution_count": 7,
     "metadata": {},
     "output_type": "execute_result"
    }
   ],
   "source": [
    "# read the artist dataset\n",
    "df_artists = pd.read_csv('data/spotify_daily_charts_artists.csv')\n",
    "df_artists.head()"
   ]
  },
  {
   "cell_type": "code",
   "execution_count": 8,
   "metadata": {},
   "outputs": [
    {
     "data": {
      "text/html": [
       "<div>\n",
       "<style scoped>\n",
       "    .dataframe tbody tr th:only-of-type {\n",
       "        vertical-align: middle;\n",
       "    }\n",
       "\n",
       "    .dataframe tbody tr th {\n",
       "        vertical-align: top;\n",
       "    }\n",
       "\n",
       "    .dataframe thead th {\n",
       "        text-align: right;\n",
       "    }\n",
       "</style>\n",
       "<table border=\"1\" class=\"dataframe\">\n",
       "  <thead>\n",
       "    <tr style=\"text-align: right;\">\n",
       "      <th></th>\n",
       "      <th>artist_id</th>\n",
       "      <th>artist_name</th>\n",
       "      <th>total_followers</th>\n",
       "      <th>genres</th>\n",
       "      <th>popularity</th>\n",
       "    </tr>\n",
       "  </thead>\n",
       "  <tbody>\n",
       "    <tr>\n",
       "      <th>761</th>\n",
       "      <td>6XpaIBNiVzIetEPCWDvAFP</td>\n",
       "      <td>Whitney Houston</td>\n",
       "      <td>6178661</td>\n",
       "      <td>['dance pop', 'pop', 'urban contemporary']</td>\n",
       "      <td>81</td>\n",
       "    </tr>\n",
       "    <tr>\n",
       "      <th>762</th>\n",
       "      <td>4QQgXkCYTt3BlENzhyNETg</td>\n",
       "      <td>Earth, Wind &amp; Fire</td>\n",
       "      <td>2709786</td>\n",
       "      <td>['disco', 'funk', 'jazz funk', 'motown', 'quie...</td>\n",
       "      <td>76</td>\n",
       "    </tr>\n",
       "    <tr>\n",
       "      <th>763</th>\n",
       "      <td>0bBz5bRBkExaej2HxtVfCw</td>\n",
       "      <td>347aidan</td>\n",
       "      <td>121360</td>\n",
       "      <td>['sad rap']</td>\n",
       "      <td>73</td>\n",
       "    </tr>\n",
       "    <tr>\n",
       "      <th>764</th>\n",
       "      <td>05YVYeV4HxYp5rrWalvuE1</td>\n",
       "      <td>Grover Washington, Jr.</td>\n",
       "      <td>176775</td>\n",
       "      <td>['jazz funk']</td>\n",
       "      <td>73</td>\n",
       "    </tr>\n",
       "    <tr>\n",
       "      <th>765</th>\n",
       "      <td>1McMsnEElThX1knmY4oliG</td>\n",
       "      <td>Olivia Rodrigo</td>\n",
       "      <td>564714</td>\n",
       "      <td>['pop', 'post-teen pop']</td>\n",
       "      <td>84</td>\n",
       "    </tr>\n",
       "  </tbody>\n",
       "</table>\n",
       "</div>"
      ],
      "text/plain": [
       "                  artist_id             artist_name  total_followers  \\\n",
       "761  6XpaIBNiVzIetEPCWDvAFP         Whitney Houston          6178661   \n",
       "762  4QQgXkCYTt3BlENzhyNETg      Earth, Wind & Fire          2709786   \n",
       "763  0bBz5bRBkExaej2HxtVfCw                347aidan           121360   \n",
       "764  05YVYeV4HxYp5rrWalvuE1  Grover Washington, Jr.           176775   \n",
       "765  1McMsnEElThX1knmY4oliG          Olivia Rodrigo           564714   \n",
       "\n",
       "                                                genres  popularity  \n",
       "761         ['dance pop', 'pop', 'urban contemporary']          81  \n",
       "762  ['disco', 'funk', 'jazz funk', 'motown', 'quie...          76  \n",
       "763                                        ['sad rap']          73  \n",
       "764                                      ['jazz funk']          73  \n",
       "765                           ['pop', 'post-teen pop']          84  "
      ]
     },
     "execution_count": 8,
     "metadata": {},
     "output_type": "execute_result"
    }
   ],
   "source": [
    "df_artists.tail()"
   ]
  },
  {
   "cell_type": "markdown",
   "metadata": {},
   "source": [
    "#### Filtering artists with 'pinoy indie', 'pinoy rock' genre tag."
   ]
  },
  {
   "cell_type": "code",
   "execution_count": 9,
   "metadata": {
    "scrolled": true
   },
   "outputs": [
    {
     "data": {
      "text/plain": [
       "(37, 5)"
      ]
     },
     "execution_count": 9,
     "metadata": {},
     "output_type": "execute_result"
    }
   ],
   "source": [
    "list_artists = []\n",
    "for index, row in df_artists[df_artists.genres.str.contains('indie|rock')].iterrows():\n",
    "    artist_genres = set()\n",
    "    for genre in row['genres'].split():\n",
    "        artist_genres.add(genre.strip(\"\\'[],\"))\n",
    "    if 'pinoy' in artist_genres:\n",
    "        list_artists.append(row['artist_name'])\n",
    "a = df_artists[df_artists.artist_name.isin(list_artists)]\n",
    "a = a.rename(columns={'popularity' : 'artist_popularity'})\n",
    "a.shape"
   ]
  },
  {
   "cell_type": "code",
   "execution_count": 10,
   "metadata": {},
   "outputs": [
    {
     "data": {
      "text/plain": [
       "{'metal', 'opm', 'pinoy', 'rock'}"
      ]
     },
     "execution_count": 10,
     "metadata": {},
     "output_type": "execute_result"
    }
   ],
   "source": [
    "artist_genres"
   ]
  },
  {
   "cell_type": "code",
   "execution_count": 11,
   "metadata": {},
   "outputs": [],
   "source": [
    "#create column tagging the 37 artists with a True value if they are part of the rap_artists list\n",
    "df['indie_rock'] = df['artist'].apply(lambda x: 1 if x in list_artists else 0)"
   ]
  },
  {
   "cell_type": "code",
   "execution_count": 12,
   "metadata": {},
   "outputs": [
    {
     "data": {
      "text/plain": [
       "0    266479\n",
       "1     28121\n",
       "Name: indie_rock, dtype: int64"
      ]
     },
     "execution_count": 12,
     "metadata": {},
     "output_type": "execute_result"
    }
   ],
   "source": [
    "# note these counts have duplicate artist names\n",
    "df['indie_rock'].value_counts()"
   ]
  },
  {
   "cell_type": "code",
   "execution_count": 13,
   "metadata": {},
   "outputs": [
    {
     "data": {
      "text/plain": [
       "(113, 37)"
      ]
     },
     "execution_count": 13,
     "metadata": {},
     "output_type": "execute_result"
    }
   ],
   "source": [
    "df_indie_rock = df[df['indie_rock']==1]\n",
    "df_indie_rock = df_indie_rock.drop(columns=['artist_name', 'indie_rock'])\n",
    "(df_indie_rock['track_id'].nunique(), df_indie_rock['artist'].nunique())"
   ]
  },
  {
   "cell_type": "code",
   "execution_count": 14,
   "metadata": {},
   "outputs": [
    {
     "name": "stdout",
     "output_type": "stream",
     "text": [
      "<class 'pandas.core.frame.DataFrame'>\n",
      "Int64Index: 28121 entries, 24 to 294571\n",
      "Data columns (total 22 columns):\n",
      " #   Column            Non-Null Count  Dtype         \n",
      "---  ------            --------------  -----         \n",
      " 0   date              28121 non-null  datetime64[ns]\n",
      " 1   position          28121 non-null  int64         \n",
      " 2   track_id          28121 non-null  object        \n",
      " 3   track_name        28121 non-null  object        \n",
      " 4   artist            28121 non-null  object        \n",
      " 5   streams           28121 non-null  int64         \n",
      " 6   artist_id         28121 non-null  object        \n",
      " 7   album_id          28121 non-null  object        \n",
      " 8   duration          28121 non-null  int64         \n",
      " 9   release_date      28121 non-null  object        \n",
      " 10  popularity        28121 non-null  int64         \n",
      " 11  danceability      28121 non-null  float64       \n",
      " 12  energy            28121 non-null  float64       \n",
      " 13  key               28121 non-null  int64         \n",
      " 14  loudness          28121 non-null  float64       \n",
      " 15  mode              28121 non-null  int64         \n",
      " 16  speechiness       28121 non-null  float64       \n",
      " 17  acousticness      28121 non-null  float64       \n",
      " 18  instrumentalness  28121 non-null  float64       \n",
      " 19  liveness          28121 non-null  float64       \n",
      " 20  valence           28121 non-null  float64       \n",
      " 21  tempo             28121 non-null  float64       \n",
      "dtypes: datetime64[ns](1), float64(9), int64(6), object(6)\n",
      "memory usage: 4.9+ MB\n"
     ]
    }
   ],
   "source": [
    "#Check null values in the columns\n",
    "df_indie_rock.info()"
   ]
  },
  {
   "cell_type": "code",
   "execution_count": 15,
   "metadata": {
    "scrolled": false
   },
   "outputs": [
    {
     "data": {
      "text/plain": [
       "0"
      ]
     },
     "execution_count": 15,
     "metadata": {},
     "output_type": "execute_result"
    }
   ],
   "source": [
    "#Check for duplicates\n",
    "df_indie_rock.duplicated().sum()"
   ]
  },
  {
   "cell_type": "code",
   "execution_count": 16,
   "metadata": {
    "scrolled": true
   },
   "outputs": [
    {
     "data": {
      "text/plain": [
       "Index(['date', 'position', 'track_id', 'track_name', 'artist', 'streams',\n",
       "       'artist_id', 'album_id', 'duration', 'release_date', 'popularity',\n",
       "       'danceability', 'energy', 'key', 'loudness', 'mode', 'speechiness',\n",
       "       'acousticness', 'instrumentalness', 'liveness', 'valence', 'tempo'],\n",
       "      dtype='object')"
      ]
     },
     "execution_count": 16,
     "metadata": {},
     "output_type": "execute_result"
    }
   ],
   "source": [
    "df_indie_rock.columns"
   ]
  },
  {
   "cell_type": "markdown",
   "metadata": {},
   "source": [
    "## EDA"
   ]
  },
  {
   "cell_type": "code",
   "execution_count": 18,
   "metadata": {},
   "outputs": [
    {
     "data": {
      "text/plain": [
       "(28121, 12)"
      ]
     },
     "execution_count": 18,
     "metadata": {},
     "output_type": "execute_result"
    }
   ],
   "source": [
    "viz_data = df_indie_rock.drop(columns=['date', 'position', 'track_id', 'track_name', 'artist', 'streams',\\\n",
    "                                    'artist_id', 'album_id', 'duration', 'release_date'])\n",
    "viz_data.shape"
   ]
  },
  {
   "cell_type": "code",
   "execution_count": 19,
   "metadata": {
    "scrolled": false
   },
   "outputs": [
    {
     "data": {
      "image/png": "[encoded data removed]",
      "text/plain": [
       "<Figure size 1152x432 with 2 Axes>"
      ]
     },
     "metadata": {
      "needs_background": "light"
     },
     "output_type": "display_data"
    }
   ],
   "source": [
    "plt.subplots(figsize=(16, 6))\n",
    "sns.heatmap(viz_data.corr(), annot=True)\n",
    "plt.show()"
   ]
  },
  {
   "cell_type": "markdown",
   "metadata": {},
   "source": [
    "## kNN"
   ]
  },
  {
   "cell_type": "code",
   "execution_count": 19,
   "metadata": {},
   "outputs": [],
   "source": [
    "from sklearn.model_selection import train_test_split, cross_val_score\n",
    "from sklearn.neighbors import KNeighborsClassifier \n",
    "from sklearn.metrics import accuracy_score,roc_curve, auc, confusion_matrix, classification_report"
   ]
  },
  {
   "cell_type": "code",
   "execution_count": null,
   "metadata": {
    "scrolled": false
   },
   "outputs": [],
   "source": [
    "# #Select audio features to use for the model\n",
    "# feature_cols = ['danceability', 'energy', 'loudness', 'speechiness', 'acousticness', 'instrumentalness',\\\n",
    "#                 'liveness', 'valence', 'tempo']\n",
    "# results_optimal_k = []\n",
    "\n",
    "# kfolds= [4,5,8,10]\n",
    "\n",
    "# for d in kfolds:\n",
    "#     print('\\nTuning kNN classification model with K-Fold=%d...' % d)\n",
    "#     # create feature matrix (X)\n",
    "#     X = df_indie_rock[feature_cols]\n",
    "#     y = df_indie_rock['is_top100']\n",
    "\n",
    "#     # creating training set, test set and checking shapes \n",
    "#     X_train,X_test,Y_train,Y_test = train_test_split(X,y, test_size=0.2)\n",
    "#     print(\"Shape of X_Train:\"+str(X_train.shape))\n",
    "#     print(\"Shape of y_Train:\"+str(Y_train.shape))\n",
    "#     print(\"Shape of X_Test:\"+str(X_test.shape))\n",
    "#     print(\"Shape of y_Test:\"+str(Y_test.shape))\n",
    "    \n",
    "#     #train model\n",
    "#     cv_scores = []\n",
    "#     neighbors=np.arange(2,51)\n",
    "#     print('Finding best k...')\n",
    "    \n",
    "#     #Perform KNN using K= [1..50] and validate using k-fold k = [4,5,8,10]\n",
    "#     for k in neighbors:\n",
    "#         #print('Fitting for k=%d' % k)\n",
    "#         knn = KNeighborsClassifier(n_neighbors=k)\n",
    "#         scores = cross_val_score(knn, X_train, Y_train, cv=d, scoring='accuracy')\n",
    "#         cv_scores.append(scores.mean())\n",
    "        \n",
    "#     # changeto misclassification error\n",
    "#     mse = [1 - x for x in cv_scores]\n",
    "\n",
    "#     # determining best k\n",
    "#     optimal_k = neighbors[mse.index(min(mse))]\n",
    "#     results_optimal_k.append(optimal_k)\n",
    "    \n",
    "#     knn_optimal = KNeighborsClassifier(n_neighbors=k)\n",
    "#     knn_optimal.fit(X, y)\n",
    "#     # plot misclassification error vs k\n",
    "#     plt.plot(neighbors, mse)\n",
    "#     plt.xlabel(\"Number of Neighbors K\")\n",
    "#     plt.ylabel(\"Misclassification Error\")\n",
    "#     plt.show()\n",
    "    \n",
    "#     print(\"The optimal number of neighbors is %d with score %d%%\" % (optimal_k, 100*(1-min(mse))))\n",
    "    \n",
    "#     # predict the response\n",
    "#     pred = knn_optimal.predict(X_test)\n",
    "\n",
    "#     # evaluate accuracy\n",
    "#     acc = accuracy_score(Y_test, pred) * 100\n",
    "#     print('\\nThe accuracy of the test classifier  is %f%%' % (acc))"
   ]
  },
  {
   "cell_type": "code",
   "execution_count": null,
   "metadata": {},
   "outputs": [],
   "source": [
    "# # create feature matrix (X)\n",
    "# feature_cols = ['energy', 'speechiness']\n",
    "# X = df_indie_rock[feature_cols]\n",
    "# y = df_indie_rock['position']\n",
    "\n",
    "# # creating training set, test set and checking shapes \n",
    "# X_train,X_test,Y_train,Y_test = train_test_split(X,y, test_size=0.2)  # 0.2 = 20% of my data set for testing\n",
    "# print(\"Shape of X_Train:\"+str(X_train.shape))\n",
    "# print(\"Shape of y_Train:\"+str(Y_train.shape))\n",
    "# print(\"Shape of X_Test:\"+str(X_test.shape))\n",
    "# print(\"Shape of y_Test:\"+str(Y_test.shape))"
   ]
  },
  {
   "cell_type": "code",
   "execution_count": null,
   "metadata": {
    "scrolled": true
   },
   "outputs": [],
   "source": [
    "# cv_scores = []\n",
    "\n",
    "# neighbors=np.arange(2,51)\n",
    "\n",
    "# for k in neighbors:\n",
    "#     print('Fitting for k=%d' % k)\n",
    "#     knn = KNeighborsClassifier(n_neighbors=k)\n",
    "#     scores = cross_val_score(knn, X_train, Y_train, cv=5, scoring='accuracy')   # cv = k-fold\n",
    "#     cv_scores.append(scores.mean())\n",
    "    \n",
    "# # changing to misclassification error\n",
    "# mse = [1 - x for x in cv_scores]\n",
    "\n",
    "# # determining best k\n",
    "# optimal_k = neighbors[mse.index(min(mse))]\n",
    "# print(\"The optimal number of neighbors is {}\".format(optimal_k))\n",
    "\n",
    "# # plot misclassification error vs k\n",
    "# plt.plot(neighbors, mse)\n",
    "# plt.xlabel(\"Number of Neighbors K\")\n",
    "# plt.ylabel(\"Misclassification Error\")\n",
    "# plt.show()"
   ]
  },
  {
   "cell_type": "code",
   "execution_count": null,
   "metadata": {},
   "outputs": [],
   "source": [
    "# knn_optimal = KNeighborsClassifier(n_neighbors=optimal_k)\n",
    "\n",
    "# # fitting the model\n",
    "# knn_optimal.fit(X_train, Y_train)\n",
    "\n",
    "# # predict the response\n",
    "# pred = knn_optimal.predict(X_test)\n",
    "\n",
    "# # evaluate accuracy\n",
    "# acc = accuracy_score(Y_test, pred) * 100\n",
    "# print('\\nThe accuracy of the knn classifier for k = %d is %f%%' % (optimal_k, acc))"
   ]
  },
  {
   "cell_type": "markdown",
   "metadata": {},
   "source": [
    "### Undersampling"
   ]
  },
  {
   "cell_type": "code",
   "execution_count": null,
   "metadata": {},
   "outputs": [],
   "source": [
    "# pip install imbalanced-learn"
   ]
  },
  {
   "cell_type": "code",
   "execution_count": 20,
   "metadata": {},
   "outputs": [
    {
     "name": "stdout",
     "output_type": "stream",
     "text": [
      "0.7.0\n"
     ]
    }
   ],
   "source": [
    "# check version number\n",
    "import imblearn\n",
    "print(imblearn.__version__)"
   ]
  },
  {
   "cell_type": "markdown",
   "metadata": {},
   "source": [
    "NearMiss version = 1"
   ]
  },
  {
   "cell_type": "code",
   "execution_count": 25,
   "metadata": {},
   "outputs": [
    {
     "name": "stdout",
     "output_type": "stream",
     "text": [
      "Counter({0: 24132, 1: 3989})\n",
      "Counter({0: 3989, 1: 3989})\n"
     ]
    }
   ],
   "source": [
    "from imblearn.under_sampling import NearMiss\n",
    "from numpy import where\n",
    "from collections import Counter\n",
    "\n",
    "# create feature matrix (X)\n",
    "feature_cols = ['danceability', 'energy', 'loudness', 'speechiness', 'acousticness', 'instrumentalness',\\\n",
    "                'liveness', 'valence', 'tempo']\n",
    "X = df_indie_rock[feature_cols]\n",
    "y = df_indie_rock['is_top50']\n",
    "\n",
    "# summarize class distribution\n",
    "counter = Counter(y)\n",
    "print(counter)\n",
    "# define the undersampling method\n",
    "undersample = NearMiss(version=1, n_neighbors_ver3=3)\n",
    "# transform the dataset\n",
    "X, y = undersample.fit_resample(X, y)\n",
    "# summarize the new class distribution\n",
    "counter = Counter(y)\n",
    "print(counter)"
   ]
  },
  {
   "cell_type": "markdown",
   "metadata": {},
   "source": [
    "### Merging playlists"
   ]
  },
  {
   "cell_type": "code",
   "execution_count": 38,
   "metadata": {},
   "outputs": [
    {
     "data": {
      "text/plain": [
       "((2813, 25), (3205, 25))"
      ]
     },
     "execution_count": 38,
     "metadata": {},
     "output_type": "execute_result"
    }
   ],
   "source": [
    "df_indie = pd.read_csv('data/df_merged_playlist1.csv')\n",
    "df_rock  = pd.read_csv('data/df_merged_playlist2.csv')\n",
    "(df_indie.shape, df_rock.shape)"
   ]
  },
  {
   "cell_type": "code",
   "execution_count": 42,
   "metadata": {},
   "outputs": [
    {
     "data": {
      "text/plain": [
       "(6018, 25)"
      ]
     },
     "execution_count": 42,
     "metadata": {},
     "output_type": "execute_result"
    }
   ],
   "source": [
    "df_playlists = pd.concat([df_indie, df_rock])\n",
    "df_playlists.shape"
   ]
  },
  {
   "cell_type": "code",
   "execution_count": 45,
   "metadata": {
    "scrolled": false
   },
   "outputs": [
    {
     "data": {
      "text/html": [
       "<div>\n",
       "<style scoped>\n",
       "    .dataframe tbody tr th:only-of-type {\n",
       "        vertical-align: middle;\n",
       "    }\n",
       "\n",
       "    .dataframe tbody tr th {\n",
       "        vertical-align: top;\n",
       "    }\n",
       "\n",
       "    .dataframe thead th {\n",
       "        text-align: right;\n",
       "    }\n",
       "</style>\n",
       "<table border=\"1\" class=\"dataframe\">\n",
       "  <thead>\n",
       "    <tr style=\"text-align: right;\">\n",
       "      <th></th>\n",
       "      <th>track_id</th>\n",
       "      <th>position</th>\n",
       "    </tr>\n",
       "  </thead>\n",
       "  <tbody>\n",
       "    <tr>\n",
       "      <th>0</th>\n",
       "      <td>0087fDVeNhuyMtST91RMjv</td>\n",
       "      <td>149</td>\n",
       "    </tr>\n",
       "    <tr>\n",
       "      <th>1</th>\n",
       "      <td>0BEpSEV02FM1N5gcw2fsJC</td>\n",
       "      <td>61</td>\n",
       "    </tr>\n",
       "    <tr>\n",
       "      <th>2</th>\n",
       "      <td>0DdC92EziGIEN6j7kTCKQX</td>\n",
       "      <td>87</td>\n",
       "    </tr>\n",
       "    <tr>\n",
       "      <th>3</th>\n",
       "      <td>0GGfPhGuWC2JGc7hlvjLXa</td>\n",
       "      <td>77</td>\n",
       "    </tr>\n",
       "    <tr>\n",
       "      <th>4</th>\n",
       "      <td>0GHwNr0lqf8jpc9wesmnHo</td>\n",
       "      <td>21</td>\n",
       "    </tr>\n",
       "    <tr>\n",
       "      <th>...</th>\n",
       "      <td>...</td>\n",
       "      <td>...</td>\n",
       "    </tr>\n",
       "    <tr>\n",
       "      <th>108</th>\n",
       "      <td>7gWKGNeHjIDUkNreiYYNdm</td>\n",
       "      <td>156</td>\n",
       "    </tr>\n",
       "    <tr>\n",
       "      <th>109</th>\n",
       "      <td>7gZ3kWNtIxFgxjsm5OTVMB</td>\n",
       "      <td>82</td>\n",
       "    </tr>\n",
       "    <tr>\n",
       "      <th>110</th>\n",
       "      <td>7h4W9blGxYCkKJ3dxPZ84j</td>\n",
       "      <td>52</td>\n",
       "    </tr>\n",
       "    <tr>\n",
       "      <th>111</th>\n",
       "      <td>7sW3f7PqDV7BQ7qqeVBJIA</td>\n",
       "      <td>38</td>\n",
       "    </tr>\n",
       "    <tr>\n",
       "      <th>112</th>\n",
       "      <td>7uuirrtCr8O8fz7kQS6VUR</td>\n",
       "      <td>119</td>\n",
       "    </tr>\n",
       "  </tbody>\n",
       "</table>\n",
       "<p>113 rows × 2 columns</p>\n",
       "</div>"
      ],
      "text/plain": [
       "                   track_id  position\n",
       "0    0087fDVeNhuyMtST91RMjv       149\n",
       "1    0BEpSEV02FM1N5gcw2fsJC        61\n",
       "2    0DdC92EziGIEN6j7kTCKQX        87\n",
       "3    0GGfPhGuWC2JGc7hlvjLXa        77\n",
       "4    0GHwNr0lqf8jpc9wesmnHo        21\n",
       "..                      ...       ...\n",
       "108  7gWKGNeHjIDUkNreiYYNdm       156\n",
       "109  7gZ3kWNtIxFgxjsm5OTVMB        82\n",
       "110  7h4W9blGxYCkKJ3dxPZ84j        52\n",
       "111  7sW3f7PqDV7BQ7qqeVBJIA        38\n",
       "112  7uuirrtCr8O8fz7kQS6VUR       119\n",
       "\n",
       "[113 rows x 2 columns]"
      ]
     },
     "execution_count": 45,
     "metadata": {},
     "output_type": "execute_result"
    }
   ],
   "source": [
    "unique_top200 = df_indie_rock.groupby('track_id')[['position']].min().reset_index()\n",
    "unique_top200"
   ]
  },
  {
   "cell_type": "code",
   "execution_count": 53,
   "metadata": {},
   "outputs": [
    {
     "data": {
      "text/plain": [
       "False    5517\n",
       "True      501\n",
       "Name: track_id, dtype: int64"
      ]
     },
     "execution_count": 53,
     "metadata": {},
     "output_type": "execute_result"
    }
   ],
   "source": [
    "df_playlists['track_id'].isin(unique_top200['track_id']).value_counts()"
   ]
  },
  {
   "cell_type": "code",
   "execution_count": 55,
   "metadata": {},
   "outputs": [],
   "source": [
    "df_playlists['is_top200'] = df_playlists['track_id'].isin(unique_top200['track_id'])"
   ]
  },
  {
   "cell_type": "code",
   "execution_count": 59,
   "metadata": {
    "scrolled": false
   },
   "outputs": [
    {
     "data": {
      "text/plain": [
       "array(['Autotelic', 'Leanne & Naara', 'SUD', 'Up Dharma Down', 'Kiana V',\n",
       "       'IV Of Spades', 'Clara Benin', 'I Belong to the Zoo',\n",
       "       'Unique Salonga', 'Callalily', 'juan karlos', 'Midnight Meetings',\n",
       "       'Orange & Lemons', 'Arthur Nery', 'Reese Lansangan',\n",
       "       'Paolo Sandejas', 'Rob Deniel', 'Join The Club', 'Alisson Shore',\n",
       "       'Reneé Dominique', 'Gracenote', 'Ebe Dancel', 'Mayonnaise',\n",
       "       'Agsunta', 'Hale', 'The Itchyworms', 'Silent Sanctuary',\n",
       "       'Parokya Ni Edgar', 'Kamikazee', 'Eraserheads', 'Rivermaya',\n",
       "       'Moonstar88', '6cyclemind', 'Sponge Cola', 'Imago', 'Slapshock'],\n",
       "      dtype=object)"
      ]
     },
     "execution_count": 59,
     "metadata": {},
     "output_type": "execute_result"
    }
   ],
   "source": [
    "df_playlists[df_playlists['is_top200']==True]['artist_name'].unique()"
   ]
  },
  {
   "cell_type": "code",
   "execution_count": 77,
   "metadata": {},
   "outputs": [],
   "source": [
    "df_isnot_top200 = df_playlists[df_playlists['is_top200']==False]"
   ]
  },
  {
   "cell_type": "code",
   "execution_count": 78,
   "metadata": {},
   "outputs": [
    {
     "data": {
      "text/plain": [
       "(5517, 26)"
      ]
     },
     "execution_count": 78,
     "metadata": {},
     "output_type": "execute_result"
    }
   ],
   "source": [
    "df_isnot_top200.shape"
   ]
  },
  {
   "cell_type": "code",
   "execution_count": 69,
   "metadata": {
    "scrolled": false
   },
   "outputs": [
    {
     "data": {
      "text/plain": [
       "(28121, 24)"
      ]
     },
     "execution_count": 69,
     "metadata": {},
     "output_type": "execute_result"
    }
   ],
   "source": [
    "df_indie_rock.shape"
   ]
  },
  {
   "cell_type": "code",
   "execution_count": 70,
   "metadata": {
    "scrolled": false
   },
   "outputs": [
    {
     "data": {
      "text/plain": [
       "Index(['date', 'position', 'track_id', 'track_name', 'artist', 'streams',\n",
       "       'artist_id', 'album_id', 'duration', 'release_date', 'popularity',\n",
       "       'danceability', 'energy', 'key', 'loudness', 'mode', 'speechiness',\n",
       "       'acousticness', 'instrumentalness', 'liveness', 'valence', 'tempo',\n",
       "       'is_top50', 'unique'],\n",
       "      dtype='object')"
      ]
     },
     "execution_count": 70,
     "metadata": {},
     "output_type": "execute_result"
    }
   ],
   "source": [
    "df_indie_rock.columns"
   ]
  },
  {
   "cell_type": "code",
   "execution_count": 83,
   "metadata": {},
   "outputs": [],
   "source": [
    "df_indie_rock1 = df_indie_rock.drop(columns= ['date', 'position', 'track_id', 'track_name', 'artist', 'streams',\n",
    "       'artist_id', 'album_id', 'duration', 'release_date','is_top50', 'unique'])"
   ]
  },
  {
   "cell_type": "code",
   "execution_count": 84,
   "metadata": {},
   "outputs": [],
   "source": [
    "df_indie_rock1['is_top200'] = 1"
   ]
  },
  {
   "cell_type": "code",
   "execution_count": 85,
   "metadata": {
    "scrolled": false
   },
   "outputs": [
    {
     "data": {
      "text/html": [
       "<div>\n",
       "<style scoped>\n",
       "    .dataframe tbody tr th:only-of-type {\n",
       "        vertical-align: middle;\n",
       "    }\n",
       "\n",
       "    .dataframe tbody tr th {\n",
       "        vertical-align: top;\n",
       "    }\n",
       "\n",
       "    .dataframe thead th {\n",
       "        text-align: right;\n",
       "    }\n",
       "</style>\n",
       "<table border=\"1\" class=\"dataframe\">\n",
       "  <thead>\n",
       "    <tr style=\"text-align: right;\">\n",
       "      <th></th>\n",
       "      <th>popularity</th>\n",
       "      <th>danceability</th>\n",
       "      <th>energy</th>\n",
       "      <th>key</th>\n",
       "      <th>loudness</th>\n",
       "      <th>mode</th>\n",
       "      <th>speechiness</th>\n",
       "      <th>acousticness</th>\n",
       "      <th>instrumentalness</th>\n",
       "      <th>liveness</th>\n",
       "      <th>valence</th>\n",
       "      <th>tempo</th>\n",
       "      <th>is_top200</th>\n",
       "    </tr>\n",
       "  </thead>\n",
       "  <tbody>\n",
       "    <tr>\n",
       "      <th>24</th>\n",
       "      <td>62</td>\n",
       "      <td>0.635</td>\n",
       "      <td>0.3760</td>\n",
       "      <td>9</td>\n",
       "      <td>-6.100</td>\n",
       "      <td>1</td>\n",
       "      <td>0.0457</td>\n",
       "      <td>0.0104</td>\n",
       "      <td>0.0000</td>\n",
       "      <td>0.1090</td>\n",
       "      <td>0.280</td>\n",
       "      <td>124.570</td>\n",
       "      <td>1</td>\n",
       "    </tr>\n",
       "    <tr>\n",
       "      <th>39</th>\n",
       "      <td>65</td>\n",
       "      <td>0.696</td>\n",
       "      <td>0.2620</td>\n",
       "      <td>11</td>\n",
       "      <td>-15.073</td>\n",
       "      <td>1</td>\n",
       "      <td>0.0310</td>\n",
       "      <td>0.5190</td>\n",
       "      <td>0.0000</td>\n",
       "      <td>0.0669</td>\n",
       "      <td>0.265</td>\n",
       "      <td>84.007</td>\n",
       "      <td>1</td>\n",
       "    </tr>\n",
       "    <tr>\n",
       "      <th>45</th>\n",
       "      <td>68</td>\n",
       "      <td>0.686</td>\n",
       "      <td>0.3220</td>\n",
       "      <td>6</td>\n",
       "      <td>-13.200</td>\n",
       "      <td>1</td>\n",
       "      <td>0.0369</td>\n",
       "      <td>0.1650</td>\n",
       "      <td>0.0296</td>\n",
       "      <td>0.0809</td>\n",
       "      <td>0.511</td>\n",
       "      <td>155.982</td>\n",
       "      <td>1</td>\n",
       "    </tr>\n",
       "    <tr>\n",
       "      <th>54</th>\n",
       "      <td>33</td>\n",
       "      <td>0.757</td>\n",
       "      <td>0.6690</td>\n",
       "      <td>11</td>\n",
       "      <td>-8.813</td>\n",
       "      <td>1</td>\n",
       "      <td>0.0385</td>\n",
       "      <td>0.2950</td>\n",
       "      <td>0.0271</td>\n",
       "      <td>0.1110</td>\n",
       "      <td>0.963</td>\n",
       "      <td>113.010</td>\n",
       "      <td>1</td>\n",
       "    </tr>\n",
       "    <tr>\n",
       "      <th>76</th>\n",
       "      <td>63</td>\n",
       "      <td>0.567</td>\n",
       "      <td>0.0896</td>\n",
       "      <td>5</td>\n",
       "      <td>-12.944</td>\n",
       "      <td>1</td>\n",
       "      <td>0.0343</td>\n",
       "      <td>0.7960</td>\n",
       "      <td>0.0000</td>\n",
       "      <td>0.2180</td>\n",
       "      <td>0.367</td>\n",
       "      <td>79.002</td>\n",
       "      <td>1</td>\n",
       "    </tr>\n",
       "  </tbody>\n",
       "</table>\n",
       "</div>"
      ],
      "text/plain": [
       "    popularity  danceability  energy  key  loudness  mode  speechiness  \\\n",
       "24          62         0.635  0.3760    9    -6.100     1       0.0457   \n",
       "39          65         0.696  0.2620   11   -15.073     1       0.0310   \n",
       "45          68         0.686  0.3220    6   -13.200     1       0.0369   \n",
       "54          33         0.757  0.6690   11    -8.813     1       0.0385   \n",
       "76          63         0.567  0.0896    5   -12.944     1       0.0343   \n",
       "\n",
       "    acousticness  instrumentalness  liveness  valence    tempo  is_top200  \n",
       "24        0.0104            0.0000    0.1090    0.280  124.570          1  \n",
       "39        0.5190            0.0000    0.0669    0.265   84.007          1  \n",
       "45        0.1650            0.0296    0.0809    0.511  155.982          1  \n",
       "54        0.2950            0.0271    0.1110    0.963  113.010          1  \n",
       "76        0.7960            0.0000    0.2180    0.367   79.002          1  "
      ]
     },
     "execution_count": 85,
     "metadata": {},
     "output_type": "execute_result"
    }
   ],
   "source": [
    "df_indie_rock1.head()"
   ]
  },
  {
   "cell_type": "code",
   "execution_count": 87,
   "metadata": {},
   "outputs": [
    {
     "data": {
      "text/plain": [
       "Index(['track_id', 'track_name', 'artist_id', 'artist_name', 'album_id',\n",
       "       'duration', 'release_date', 'popularity', 'danceability', 'energy',\n",
       "       'key', 'loudness', 'mode', 'speechiness', 'acousticness',\n",
       "       'instrumentalness', 'liveness', 'valence', 'tempo', 'playlist_id_x',\n",
       "       'playlist_name_x', 'playlist_id_y', 'playlist_name_y', 'duration_mins',\n",
       "       'genre', 'is_top200'],\n",
       "      dtype='object')"
      ]
     },
     "execution_count": 87,
     "metadata": {},
     "output_type": "execute_result"
    }
   ],
   "source": [
    "df_isnot_top200.columns"
   ]
  },
  {
   "cell_type": "code",
   "execution_count": 88,
   "metadata": {},
   "outputs": [],
   "source": [
    "df_isnot_top200 = df_isnot_top200.drop(columns = ['track_id', 'track_name', 'artist_id', 'artist_name', 'album_id',\n",
    "       'duration', 'release_date','playlist_id_x',\n",
    "       'playlist_name_x', 'playlist_id_y', 'playlist_name_y', 'duration_mins',\n",
    "       'genre'])"
   ]
  },
  {
   "cell_type": "code",
   "execution_count": 89,
   "metadata": {},
   "outputs": [
    {
     "data": {
      "text/html": [
       "<div>\n",
       "<style scoped>\n",
       "    .dataframe tbody tr th:only-of-type {\n",
       "        vertical-align: middle;\n",
       "    }\n",
       "\n",
       "    .dataframe tbody tr th {\n",
       "        vertical-align: top;\n",
       "    }\n",
       "\n",
       "    .dataframe thead th {\n",
       "        text-align: right;\n",
       "    }\n",
       "</style>\n",
       "<table border=\"1\" class=\"dataframe\">\n",
       "  <thead>\n",
       "    <tr style=\"text-align: right;\">\n",
       "      <th></th>\n",
       "      <th>popularity</th>\n",
       "      <th>danceability</th>\n",
       "      <th>energy</th>\n",
       "      <th>key</th>\n",
       "      <th>loudness</th>\n",
       "      <th>mode</th>\n",
       "      <th>speechiness</th>\n",
       "      <th>acousticness</th>\n",
       "      <th>instrumentalness</th>\n",
       "      <th>liveness</th>\n",
       "      <th>valence</th>\n",
       "      <th>tempo</th>\n",
       "      <th>is_top200</th>\n",
       "    </tr>\n",
       "  </thead>\n",
       "  <tbody>\n",
       "    <tr>\n",
       "      <th>0</th>\n",
       "      <td>29</td>\n",
       "      <td>0.475</td>\n",
       "      <td>0.157</td>\n",
       "      <td>0</td>\n",
       "      <td>-13.932</td>\n",
       "      <td>1</td>\n",
       "      <td>0.0307</td>\n",
       "      <td>0.785</td>\n",
       "      <td>0.002120</td>\n",
       "      <td>0.1070</td>\n",
       "      <td>0.0806</td>\n",
       "      <td>119.836</td>\n",
       "      <td>0</td>\n",
       "    </tr>\n",
       "    <tr>\n",
       "      <th>1</th>\n",
       "      <td>37</td>\n",
       "      <td>0.406</td>\n",
       "      <td>0.742</td>\n",
       "      <td>8</td>\n",
       "      <td>-3.135</td>\n",
       "      <td>1</td>\n",
       "      <td>0.0356</td>\n",
       "      <td>0.215</td>\n",
       "      <td>0.000410</td>\n",
       "      <td>0.0943</td>\n",
       "      <td>0.5640</td>\n",
       "      <td>179.959</td>\n",
       "      <td>0</td>\n",
       "    </tr>\n",
       "    <tr>\n",
       "      <th>2</th>\n",
       "      <td>25</td>\n",
       "      <td>0.523</td>\n",
       "      <td>0.759</td>\n",
       "      <td>4</td>\n",
       "      <td>-5.652</td>\n",
       "      <td>1</td>\n",
       "      <td>0.0295</td>\n",
       "      <td>0.011</td>\n",
       "      <td>0.000769</td>\n",
       "      <td>0.1090</td>\n",
       "      <td>0.6030</td>\n",
       "      <td>90.026</td>\n",
       "      <td>0</td>\n",
       "    </tr>\n",
       "    <tr>\n",
       "      <th>3</th>\n",
       "      <td>46</td>\n",
       "      <td>0.603</td>\n",
       "      <td>0.196</td>\n",
       "      <td>6</td>\n",
       "      <td>-14.843</td>\n",
       "      <td>1</td>\n",
       "      <td>0.0443</td>\n",
       "      <td>0.940</td>\n",
       "      <td>0.000001</td>\n",
       "      <td>0.0916</td>\n",
       "      <td>0.1600</td>\n",
       "      <td>119.529</td>\n",
       "      <td>0</td>\n",
       "    </tr>\n",
       "    <tr>\n",
       "      <th>4</th>\n",
       "      <td>46</td>\n",
       "      <td>0.603</td>\n",
       "      <td>0.196</td>\n",
       "      <td>6</td>\n",
       "      <td>-14.843</td>\n",
       "      <td>1</td>\n",
       "      <td>0.0443</td>\n",
       "      <td>0.940</td>\n",
       "      <td>0.000001</td>\n",
       "      <td>0.0916</td>\n",
       "      <td>0.1600</td>\n",
       "      <td>119.529</td>\n",
       "      <td>0</td>\n",
       "    </tr>\n",
       "  </tbody>\n",
       "</table>\n",
       "</div>"
      ],
      "text/plain": [
       "   popularity  danceability  energy  key  loudness  mode  speechiness  \\\n",
       "0          29         0.475   0.157    0   -13.932     1       0.0307   \n",
       "1          37         0.406   0.742    8    -3.135     1       0.0356   \n",
       "2          25         0.523   0.759    4    -5.652     1       0.0295   \n",
       "3          46         0.603   0.196    6   -14.843     1       0.0443   \n",
       "4          46         0.603   0.196    6   -14.843     1       0.0443   \n",
       "\n",
       "   acousticness  instrumentalness  liveness  valence    tempo  is_top200  \n",
       "0         0.785          0.002120    0.1070   0.0806  119.836          0  \n",
       "1         0.215          0.000410    0.0943   0.5640  179.959          0  \n",
       "2         0.011          0.000769    0.1090   0.6030   90.026          0  \n",
       "3         0.940          0.000001    0.0916   0.1600  119.529          0  \n",
       "4         0.940          0.000001    0.0916   0.1600  119.529          0  "
      ]
     },
     "execution_count": 89,
     "metadata": {},
     "output_type": "execute_result"
    }
   ],
   "source": [
    "df_isnot_top200.head()"
   ]
  },
  {
   "cell_type": "code",
   "execution_count": 86,
   "metadata": {},
   "outputs": [
    {
     "name": "stderr",
     "output_type": "stream",
     "text": [
      "<ipython-input-86-9bf8e1222d69>:1: SettingWithCopyWarning: \n",
      "A value is trying to be set on a copy of a slice from a DataFrame.\n",
      "Try using .loc[row_indexer,col_indexer] = value instead\n",
      "\n",
      "See the caveats in the documentation: https://pandas.pydata.org/pandas-docs/stable/user_guide/indexing.html#returning-a-view-versus-a-copy\n",
      "  df_isnot_top200['is_top200'] = 0\n"
     ]
    }
   ],
   "source": [
    "df_isnot_top200['is_top200'] = 0"
   ]
  },
  {
   "cell_type": "code",
   "execution_count": 94,
   "metadata": {},
   "outputs": [
    {
     "data": {
      "text/plain": [
       "(3384, 13)"
      ]
     },
     "execution_count": 94,
     "metadata": {},
     "output_type": "execute_result"
    }
   ],
   "source": [
    "df_clean = pd.concat([df_isnot_top200, df_indie_rock1], axis = 0)\n",
    "df_clean.drop_duplicates(inplace = True)\n",
    "df_clean.shape"
   ]
  },
  {
   "cell_type": "code",
   "execution_count": 96,
   "metadata": {
    "scrolled": true
   },
   "outputs": [
    {
     "data": {
      "text/plain": [
       "0    3272\n",
       "1     112\n",
       "Name: is_top200, dtype: int64"
      ]
     },
     "execution_count": 96,
     "metadata": {},
     "output_type": "execute_result"
    }
   ],
   "source": [
    "df_clean['is_top200'].value_counts()"
   ]
  },
  {
   "cell_type": "code",
   "execution_count": 102,
   "metadata": {},
   "outputs": [],
   "source": [
    "df_clean.to_csv('data/df_clean.csv', index=False, encoding='utf-8')"
   ]
  },
  {
   "cell_type": "markdown",
   "metadata": {},
   "source": [
    "### NearMiss version = 1"
   ]
  },
  {
   "cell_type": "code",
   "execution_count": 97,
   "metadata": {},
   "outputs": [],
   "source": [
    "feature_cols = ['danceability', 'energy', 'loudness', 'speechiness', 'acousticness', 'instrumentalness',\\\n",
    "                'liveness', 'valence', 'tempo']\n",
    "X = df_clean[feature_cols]\n",
    "y = df_clean['is_top200']"
   ]
  },
  {
   "cell_type": "code",
   "execution_count": 98,
   "metadata": {},
   "outputs": [
    {
     "name": "stdout",
     "output_type": "stream",
     "text": [
      "Counter({0: 3272, 1: 112})\n",
      "Counter({0: 112, 1: 112})\n"
     ]
    }
   ],
   "source": [
    "# summarize class distribution\n",
    "counter = Counter(y)\n",
    "print(counter)\n",
    "# define the undersampling method\n",
    "undersample = NearMiss(version=1, n_neighbors=3)\n",
    "# transform the dataset\n",
    "X, y = undersample.fit_resample(X, y)\n",
    "# summarize the new class distribution\n",
    "counter = Counter(y)\n",
    "print(counter)"
   ]
  },
  {
   "cell_type": "code",
   "execution_count": 99,
   "metadata": {},
   "outputs": [
    {
     "name": "stdout",
     "output_type": "stream",
     "text": [
      "Shape of X_Train:(179, 9)\n",
      "Shape of y_Train:(179,)\n",
      "Shape of X_Test:(45, 9)\n",
      "Shape of y_Test:(45,)\n"
     ]
    }
   ],
   "source": [
    "X_train,X_test,Y_train,Y_test = train_test_split(X,y, test_size=0.2)  # 0.2 = 20% of my data set for testing\n",
    "print(\"Shape of X_Train:\"+str(X_train.shape))\n",
    "print(\"Shape of y_Train:\"+str(Y_train.shape))\n",
    "print(\"Shape of X_Test:\"+str(X_test.shape))\n",
    "print(\"Shape of y_Test:\"+str(Y_test.shape))"
   ]
  },
  {
   "cell_type": "code",
   "execution_count": 100,
   "metadata": {
    "scrolled": false
   },
   "outputs": [
    {
     "name": "stdout",
     "output_type": "stream",
     "text": [
      "Fitting for k=2\n",
      "Fitting for k=3\n",
      "Fitting for k=4\n",
      "Fitting for k=5\n",
      "Fitting for k=6\n",
      "Fitting for k=7\n",
      "Fitting for k=8\n",
      "Fitting for k=9\n",
      "Fitting for k=10\n",
      "Fitting for k=11\n",
      "Fitting for k=12\n",
      "Fitting for k=13\n",
      "Fitting for k=14\n",
      "Fitting for k=15\n",
      "Fitting for k=16\n",
      "Fitting for k=17\n",
      "Fitting for k=18\n",
      "Fitting for k=19\n",
      "Fitting for k=20\n",
      "Fitting for k=21\n",
      "Fitting for k=22\n",
      "Fitting for k=23\n",
      "Fitting for k=24\n",
      "Fitting for k=25\n",
      "Fitting for k=26\n",
      "Fitting for k=27\n",
      "Fitting for k=28\n",
      "Fitting for k=29\n",
      "Fitting for k=30\n",
      "Fitting for k=31\n",
      "Fitting for k=32\n",
      "Fitting for k=33\n",
      "Fitting for k=34\n",
      "Fitting for k=35\n",
      "Fitting for k=36\n",
      "Fitting for k=37\n",
      "Fitting for k=38\n",
      "Fitting for k=39\n",
      "Fitting for k=40\n",
      "Fitting for k=41\n",
      "Fitting for k=42\n",
      "Fitting for k=43\n",
      "Fitting for k=44\n",
      "Fitting for k=45\n",
      "Fitting for k=46\n",
      "Fitting for k=47\n",
      "Fitting for k=48\n",
      "Fitting for k=49\n",
      "Fitting for k=50\n",
      "The optimal number of neighbors is 5\n"
     ]
    },
    {
     "data": {
      "image/png": "[encoded data removed]",
      "text/plain": [
       "<Figure size 432x288 with 1 Axes>"
      ]
     },
     "metadata": {
      "needs_background": "light"
     },
     "output_type": "display_data"
    },
    {
     "name": "stdout",
     "output_type": "stream",
     "text": [
      "\n",
      "The accuracy of the knn classifier for k = 5 is 68.888889%\n"
     ]
    }
   ],
   "source": [
    "cv_scores = []\n",
    "\n",
    "neighbors=np.arange(2,51)\n",
    "\n",
    "for k in neighbors:\n",
    "    print('Fitting for k=%d' % k)\n",
    "    knn = KNeighborsClassifier(n_neighbors=k)\n",
    "    scores = cross_val_score(knn, X_train, Y_train, cv=5, scoring='accuracy')   # cv = k-fold\n",
    "    cv_scores.append(scores.mean())\n",
    "    \n",
    "# changing to misclassification error\n",
    "mse = [1 - x for x in cv_scores]\n",
    "\n",
    "# determining best k\n",
    "optimal_k = neighbors[mse.index(min(mse))]\n",
    "print(\"The optimal number of neighbors is {}\".format(optimal_k))\n",
    "\n",
    "# plot misclassification error vs k\n",
    "plt.plot(neighbors, mse)\n",
    "plt.xlabel(\"Number of Neighbors K\")\n",
    "plt.ylabel(\"Misclassification Error\")\n",
    "plt.show()\n",
    "\n",
    "####################################################\n",
    "knn_optimal = KNeighborsClassifier(n_neighbors=optimal_k)\n",
    "\n",
    "# fitting the model\n",
    "knn_optimal.fit(X_train, Y_train)\n",
    "\n",
    "# predict the response\n",
    "pred = knn_optimal.predict(X_test)\n",
    "\n",
    "# evaluate accuracy\n",
    "acc = accuracy_score(Y_test, pred) * 100\n",
    "print('\\nThe accuracy of the knn classifier for k = %d is %f%%' % (optimal_k, acc))"
   ]
  },
  {
   "cell_type": "markdown",
   "metadata": {},
   "source": [
    "### NearMiss version = 2"
   ]
  },
  {
   "cell_type": "code",
   "execution_count": 139,
   "metadata": {},
   "outputs": [
    {
     "name": "stdout",
     "output_type": "stream",
     "text": [
      "Counter({0: 3272, 1: 112})\n",
      "Counter({0: 112, 1: 112})\n"
     ]
    }
   ],
   "source": [
    "feature_cols = ['danceability', 'energy', 'loudness', 'speechiness', 'acousticness', 'instrumentalness',\\\n",
    "                'liveness', 'valence', 'tempo']\n",
    "X = df_clean[feature_cols]\n",
    "y = df_clean['is_top200']\n",
    "\n",
    "# summarize class distribution\n",
    "counter = Counter(y)\n",
    "print(counter)\n",
    "# define the undersampling method\n",
    "undersample = NearMiss(version=2, n_neighbors=3)\n",
    "# transform the dataset\n",
    "X, y = undersample.fit_resample(X, y)\n",
    "# summarize the new class distribution\n",
    "counter = Counter(y)\n",
    "print(counter)"
   ]
  },
  {
   "cell_type": "code",
   "execution_count": 140,
   "metadata": {},
   "outputs": [
    {
     "name": "stdout",
     "output_type": "stream",
     "text": [
      "Shape of X_Train:(179, 9)\n",
      "Shape of y_Train:(179,)\n",
      "Shape of X_Test:(45, 9)\n",
      "Shape of y_Test:(45,)\n"
     ]
    }
   ],
   "source": [
    "X_train,X_test,Y_train,Y_test = train_test_split(X,y, test_size=0.2)  # 0.2 = 20% of my data set for testing\n",
    "print(\"Shape of X_Train:\"+str(X_train.shape))\n",
    "print(\"Shape of y_Train:\"+str(Y_train.shape))\n",
    "print(\"Shape of X_Test:\"+str(X_test.shape))\n",
    "print(\"Shape of y_Test:\"+str(Y_test.shape))"
   ]
  },
  {
   "cell_type": "code",
   "execution_count": 141,
   "metadata": {
    "scrolled": true
   },
   "outputs": [
    {
     "name": "stdout",
     "output_type": "stream",
     "text": [
      "Fitting for k=2\n",
      "Fitting for k=3\n",
      "Fitting for k=4\n",
      "Fitting for k=5\n",
      "Fitting for k=6\n",
      "Fitting for k=7\n",
      "Fitting for k=8\n",
      "Fitting for k=9\n",
      "Fitting for k=10\n",
      "Fitting for k=11\n",
      "Fitting for k=12\n",
      "Fitting for k=13\n",
      "Fitting for k=14\n",
      "Fitting for k=15\n",
      "Fitting for k=16\n",
      "Fitting for k=17\n",
      "Fitting for k=18\n",
      "Fitting for k=19\n",
      "Fitting for k=20\n",
      "Fitting for k=21\n",
      "Fitting for k=22\n",
      "Fitting for k=23\n",
      "Fitting for k=24\n",
      "Fitting for k=25\n",
      "Fitting for k=26\n",
      "Fitting for k=27\n",
      "Fitting for k=28\n",
      "Fitting for k=29\n",
      "Fitting for k=30\n",
      "Fitting for k=31\n",
      "Fitting for k=32\n",
      "Fitting for k=33\n",
      "Fitting for k=34\n",
      "Fitting for k=35\n",
      "Fitting for k=36\n",
      "Fitting for k=37\n",
      "Fitting for k=38\n",
      "Fitting for k=39\n",
      "Fitting for k=40\n",
      "Fitting for k=41\n",
      "Fitting for k=42\n",
      "Fitting for k=43\n",
      "Fitting for k=44\n",
      "Fitting for k=45\n",
      "Fitting for k=46\n",
      "Fitting for k=47\n",
      "Fitting for k=48\n",
      "Fitting for k=49\n",
      "Fitting for k=50\n",
      "The optimal number of neighbors is 5\n"
     ]
    },
    {
     "data": {
      "image/png": "[encoded data removed]",
      "text/plain": [
       "<Figure size 432x288 with 1 Axes>"
      ]
     },
     "metadata": {
      "needs_background": "light"
     },
     "output_type": "display_data"
    },
    {
     "name": "stdout",
     "output_type": "stream",
     "text": [
      "\n",
      "The accuracy of the knn classifier for k = 5 is 91.111111%\n",
      "              precision    recall  f1-score   support\n",
      "\n",
      "           0       0.88      0.95      0.91        22\n",
      "           1       0.95      0.87      0.91        23\n",
      "\n",
      "    accuracy                           0.91        45\n",
      "   macro avg       0.91      0.91      0.91        45\n",
      "weighted avg       0.91      0.91      0.91        45\n",
      "\n"
     ]
    }
   ],
   "source": [
    "cv_scores = []\n",
    "\n",
    "neighbors=np.arange(2,51)\n",
    "\n",
    "for k in neighbors:\n",
    "    print('Fitting for k=%d' % k)\n",
    "    knn = KNeighborsClassifier(n_neighbors=k)\n",
    "    scores = cross_val_score(knn, X_train, Y_train, cv=5, scoring='accuracy')   # cv = k-fold\n",
    "    cv_scores.append(scores.mean())\n",
    "    \n",
    "# changing to misclassification error\n",
    "mse = [1 - x for x in cv_scores]\n",
    "\n",
    "# determining best k\n",
    "optimal_k = neighbors[mse.index(min(mse))]\n",
    "print(\"The optimal number of neighbors is {}\".format(optimal_k))\n",
    "\n",
    "# plot misclassification error vs k\n",
    "plt.plot(neighbors, mse)\n",
    "plt.xlabel(\"Number of Neighbors K\")\n",
    "plt.ylabel(\"Misclassification Error\")\n",
    "plt.show()\n",
    "\n",
    "####################################################\n",
    "knn_optimal = KNeighborsClassifier(n_neighbors=optimal_k)\n",
    "\n",
    "# fitting the model\n",
    "knn_optimal.fit(X_train, Y_train)\n",
    "\n",
    "# predict the response\n",
    "pred = knn_optimal.predict(X_test)\n",
    "\n",
    "# evaluate accuracy\n",
    "acc = accuracy_score(Y_test, pred) * 100\n",
    "print('\\nThe accuracy of the knn classifier for k = %d is %f%%' % (optimal_k, acc))\n",
    "\n",
    "#Classification Report\n",
    "print(classification_report(Y_test,knn_optimal.predict(X_test)))"
   ]
  },
  {
   "cell_type": "code",
   "execution_count": null,
   "metadata": {},
   "outputs": [],
   "source": [
    "# Using permutation_importance to get the feature importance of kNN model\n",
    "\n",
    "from sklearn.inspection import permutation_importance\n",
    "\n",
    "# perform permutation importance\n",
    "results = permutation_importance(knn_optimal, X_train, Y_train, scoring='accuracy')\n",
    "# get importance\n",
    "importance = results.importances_mean\n",
    "\n",
    "#plot\n",
    "feat_importances = pd.Series(importance, index=feature_cols)\n",
    "feat_importances.sort_values(ascending=True).plot(kind='barh')\n",
    "plt.xlabel('Importance')\n",
    "plt.ylabel('Features')"
   ]
  },
  {
   "cell_type": "markdown",
   "metadata": {},
   "source": [
    "### NearMiss Version = 3"
   ]
  },
  {
   "cell_type": "code",
   "execution_count": 114,
   "metadata": {},
   "outputs": [
    {
     "name": "stdout",
     "output_type": "stream",
     "text": [
      "Counter({0: 3272, 1: 112})\n",
      "Counter({0: 112, 1: 112})\n"
     ]
    }
   ],
   "source": [
    "feature_cols = ['danceability', 'energy', 'loudness', 'speechiness', 'acousticness', 'instrumentalness',\\\n",
    "                'liveness', 'valence', 'tempo']\n",
    "X = df_clean[feature_cols]\n",
    "y = df_clean['is_top200']\n",
    "\n",
    "# summarize class distribution\n",
    "counter = Counter(y)\n",
    "print(counter)\n",
    "# define the undersampling method\n",
    "undersample = NearMiss(version=3, n_neighbors=3)\n",
    "# transform the dataset\n",
    "X, y = undersample.fit_resample(X, y)\n",
    "# summarize the new class distribution\n",
    "counter = Counter(y)\n",
    "print(counter)"
   ]
  },
  {
   "cell_type": "code",
   "execution_count": 115,
   "metadata": {},
   "outputs": [
    {
     "name": "stdout",
     "output_type": "stream",
     "text": [
      "Shape of X_Train:(179, 9)\n",
      "Shape of y_Train:(179,)\n",
      "Shape of X_Test:(45, 9)\n",
      "Shape of y_Test:(45,)\n"
     ]
    }
   ],
   "source": [
    "X_train,X_test,Y_train,Y_test = train_test_split(X,y, test_size=0.2)  # 0.2 = 20% of my data set for testing\n",
    "print(\"Shape of X_Train:\"+str(X_train.shape))\n",
    "print(\"Shape of y_Train:\"+str(Y_train.shape))\n",
    "print(\"Shape of X_Test:\"+str(X_test.shape))\n",
    "print(\"Shape of y_Test:\"+str(Y_test.shape))"
   ]
  },
  {
   "cell_type": "code",
   "execution_count": 116,
   "metadata": {},
   "outputs": [
    {
     "name": "stdout",
     "output_type": "stream",
     "text": [
      "Fitting for k=2\n",
      "Fitting for k=3\n",
      "Fitting for k=4\n",
      "Fitting for k=5\n",
      "Fitting for k=6\n",
      "Fitting for k=7\n",
      "Fitting for k=8\n",
      "Fitting for k=9\n",
      "Fitting for k=10\n",
      "Fitting for k=11\n",
      "Fitting for k=12\n",
      "Fitting for k=13\n",
      "Fitting for k=14\n",
      "Fitting for k=15\n",
      "Fitting for k=16\n",
      "Fitting for k=17\n",
      "Fitting for k=18\n",
      "Fitting for k=19\n",
      "Fitting for k=20\n",
      "Fitting for k=21\n",
      "Fitting for k=22\n",
      "Fitting for k=23\n",
      "Fitting for k=24\n",
      "Fitting for k=25\n",
      "Fitting for k=26\n",
      "Fitting for k=27\n",
      "Fitting for k=28\n",
      "Fitting for k=29\n",
      "Fitting for k=30\n",
      "Fitting for k=31\n",
      "Fitting for k=32\n",
      "Fitting for k=33\n",
      "Fitting for k=34\n",
      "Fitting for k=35\n",
      "Fitting for k=36\n",
      "Fitting for k=37\n",
      "Fitting for k=38\n",
      "Fitting for k=39\n",
      "Fitting for k=40\n",
      "Fitting for k=41\n",
      "Fitting for k=42\n",
      "Fitting for k=43\n",
      "Fitting for k=44\n",
      "Fitting for k=45\n",
      "Fitting for k=46\n",
      "Fitting for k=47\n",
      "Fitting for k=48\n",
      "Fitting for k=49\n",
      "Fitting for k=50\n",
      "The optimal number of neighbors is 2\n"
     ]
    },
    {
     "data": {
      "image/png": "[encoded data removed]",
      "text/plain": [
       "<Figure size 432x288 with 1 Axes>"
      ]
     },
     "metadata": {
      "needs_background": "light"
     },
     "output_type": "display_data"
    },
    {
     "name": "stdout",
     "output_type": "stream",
     "text": [
      "\n",
      "The accuracy of the knn classifier for k = 2 is 77.777778%\n",
      "              precision    recall  f1-score   support\n",
      "\n",
      "           0       0.71      1.00      0.83        25\n",
      "           1       1.00      0.50      0.67        20\n",
      "\n",
      "    accuracy                           0.78        45\n",
      "   macro avg       0.86      0.75      0.75        45\n",
      "weighted avg       0.84      0.78      0.76        45\n",
      "\n"
     ]
    }
   ],
   "source": [
    "cv_scores = []\n",
    "\n",
    "neighbors=np.arange(2,51)\n",
    "\n",
    "for k in neighbors:\n",
    "    print('Fitting for k=%d' % k)\n",
    "    knn = KNeighborsClassifier(n_neighbors=k)\n",
    "    scores = cross_val_score(knn, X_train, Y_train, cv=5, scoring='accuracy')   # cv = k-fold\n",
    "    cv_scores.append(scores.mean())\n",
    "    \n",
    "# changing to misclassification error\n",
    "mse = [1 - x for x in cv_scores]\n",
    "\n",
    "# determining best k\n",
    "optimal_k = neighbors[mse.index(min(mse))]\n",
    "print(\"The optimal number of neighbors is {}\".format(optimal_k))\n",
    "\n",
    "# plot misclassification error vs k\n",
    "plt.plot(neighbors, mse)\n",
    "plt.xlabel(\"Number of Neighbors K\")\n",
    "plt.ylabel(\"Misclassification Error\")\n",
    "plt.show()\n",
    "\n",
    "####################################################\n",
    "knn_optimal = KNeighborsClassifier(n_neighbors=optimal_k)\n",
    "\n",
    "# fitting the model\n",
    "knn_optimal.fit(X_train, Y_train)\n",
    "\n",
    "# predict the response\n",
    "pred = knn_optimal.predict(X_test)\n",
    "\n",
    "# evaluate accuracy\n",
    "acc = accuracy_score(Y_test, pred) * 100\n",
    "print('\\nThe accuracy of the knn classifier for k = %d is %f%%' % (optimal_k, acc))\n",
    "\n",
    "#Classification Report\n",
    "print(classification_report(Y_test,knn_optimal.predict(X_test)))"
   ]
  },
  {
   "cell_type": "markdown",
   "metadata": {},
   "source": [
    "### Model Selection\n",
    "knn.optimal_predict value from **undersampled version=2**"
   ]
  },
  {
   "cell_type": "code",
   "execution_count": 142,
   "metadata": {
    "scrolled": true
   },
   "outputs": [
    {
     "name": "stdout",
     "output_type": "stream",
     "text": [
      "using Version2 in undersampling\n"
     ]
    },
    {
     "data": {
      "text/html": [
       "<div>\n",
       "<style scoped>\n",
       "    .dataframe tbody tr th:only-of-type {\n",
       "        vertical-align: middle;\n",
       "    }\n",
       "\n",
       "    .dataframe tbody tr th {\n",
       "        vertical-align: top;\n",
       "    }\n",
       "\n",
       "    .dataframe thead th {\n",
       "        text-align: right;\n",
       "    }\n",
       "</style>\n",
       "<table border=\"1\" class=\"dataframe\">\n",
       "  <thead>\n",
       "    <tr style=\"text-align: right;\">\n",
       "      <th></th>\n",
       "      <th>popularity</th>\n",
       "      <th>danceability</th>\n",
       "      <th>energy</th>\n",
       "      <th>key</th>\n",
       "      <th>loudness</th>\n",
       "      <th>mode</th>\n",
       "      <th>speechiness</th>\n",
       "      <th>acousticness</th>\n",
       "      <th>instrumentalness</th>\n",
       "      <th>liveness</th>\n",
       "      <th>valence</th>\n",
       "      <th>tempo</th>\n",
       "      <th>is_top200</th>\n",
       "      <th>predicted_top200</th>\n",
       "      <th>predicted_top200_prob</th>\n",
       "    </tr>\n",
       "  </thead>\n",
       "  <tbody>\n",
       "    <tr>\n",
       "      <th>0</th>\n",
       "      <td>29</td>\n",
       "      <td>0.475</td>\n",
       "      <td>0.157</td>\n",
       "      <td>0</td>\n",
       "      <td>-13.932</td>\n",
       "      <td>1</td>\n",
       "      <td>0.0307</td>\n",
       "      <td>0.785000</td>\n",
       "      <td>0.002120</td>\n",
       "      <td>0.1070</td>\n",
       "      <td>0.0806</td>\n",
       "      <td>119.836</td>\n",
       "      <td>0</td>\n",
       "      <td>0</td>\n",
       "      <td>0.8</td>\n",
       "    </tr>\n",
       "    <tr>\n",
       "      <th>1</th>\n",
       "      <td>37</td>\n",
       "      <td>0.406</td>\n",
       "      <td>0.742</td>\n",
       "      <td>8</td>\n",
       "      <td>-3.135</td>\n",
       "      <td>1</td>\n",
       "      <td>0.0356</td>\n",
       "      <td>0.215000</td>\n",
       "      <td>0.000410</td>\n",
       "      <td>0.0943</td>\n",
       "      <td>0.5640</td>\n",
       "      <td>179.959</td>\n",
       "      <td>0</td>\n",
       "      <td>1</td>\n",
       "      <td>1.0</td>\n",
       "    </tr>\n",
       "    <tr>\n",
       "      <th>2</th>\n",
       "      <td>25</td>\n",
       "      <td>0.523</td>\n",
       "      <td>0.759</td>\n",
       "      <td>4</td>\n",
       "      <td>-5.652</td>\n",
       "      <td>1</td>\n",
       "      <td>0.0295</td>\n",
       "      <td>0.011000</td>\n",
       "      <td>0.000769</td>\n",
       "      <td>0.1090</td>\n",
       "      <td>0.6030</td>\n",
       "      <td>90.026</td>\n",
       "      <td>0</td>\n",
       "      <td>1</td>\n",
       "      <td>1.0</td>\n",
       "    </tr>\n",
       "    <tr>\n",
       "      <th>3</th>\n",
       "      <td>46</td>\n",
       "      <td>0.603</td>\n",
       "      <td>0.196</td>\n",
       "      <td>6</td>\n",
       "      <td>-14.843</td>\n",
       "      <td>1</td>\n",
       "      <td>0.0443</td>\n",
       "      <td>0.940000</td>\n",
       "      <td>0.000001</td>\n",
       "      <td>0.0916</td>\n",
       "      <td>0.1600</td>\n",
       "      <td>119.529</td>\n",
       "      <td>0</td>\n",
       "      <td>0</td>\n",
       "      <td>0.8</td>\n",
       "    </tr>\n",
       "    <tr>\n",
       "      <th>5</th>\n",
       "      <td>30</td>\n",
       "      <td>0.385</td>\n",
       "      <td>0.233</td>\n",
       "      <td>11</td>\n",
       "      <td>-16.567</td>\n",
       "      <td>0</td>\n",
       "      <td>0.0358</td>\n",
       "      <td>0.937000</td>\n",
       "      <td>0.002000</td>\n",
       "      <td>0.0695</td>\n",
       "      <td>0.1800</td>\n",
       "      <td>78.666</td>\n",
       "      <td>0</td>\n",
       "      <td>1</td>\n",
       "      <td>1.0</td>\n",
       "    </tr>\n",
       "    <tr>\n",
       "      <th>...</th>\n",
       "      <td>...</td>\n",
       "      <td>...</td>\n",
       "      <td>...</td>\n",
       "      <td>...</td>\n",
       "      <td>...</td>\n",
       "      <td>...</td>\n",
       "      <td>...</td>\n",
       "      <td>...</td>\n",
       "      <td>...</td>\n",
       "      <td>...</td>\n",
       "      <td>...</td>\n",
       "      <td>...</td>\n",
       "      <td>...</td>\n",
       "      <td>...</td>\n",
       "      <td>...</td>\n",
       "    </tr>\n",
       "    <tr>\n",
       "      <th>275629</th>\n",
       "      <td>73</td>\n",
       "      <td>0.655</td>\n",
       "      <td>0.385</td>\n",
       "      <td>1</td>\n",
       "      <td>-8.967</td>\n",
       "      <td>0</td>\n",
       "      <td>0.0355</td>\n",
       "      <td>0.398000</td>\n",
       "      <td>0.005640</td>\n",
       "      <td>0.1120</td>\n",
       "      <td>0.4290</td>\n",
       "      <td>120.016</td>\n",
       "      <td>1</td>\n",
       "      <td>0</td>\n",
       "      <td>0.6</td>\n",
       "    </tr>\n",
       "    <tr>\n",
       "      <th>277789</th>\n",
       "      <td>63</td>\n",
       "      <td>0.292</td>\n",
       "      <td>0.397</td>\n",
       "      <td>7</td>\n",
       "      <td>-9.161</td>\n",
       "      <td>1</td>\n",
       "      <td>0.0346</td>\n",
       "      <td>0.755000</td>\n",
       "      <td>0.000000</td>\n",
       "      <td>0.2800</td>\n",
       "      <td>0.1870</td>\n",
       "      <td>86.491</td>\n",
       "      <td>1</td>\n",
       "      <td>1</td>\n",
       "      <td>1.0</td>\n",
       "    </tr>\n",
       "    <tr>\n",
       "      <th>284503</th>\n",
       "      <td>52</td>\n",
       "      <td>0.452</td>\n",
       "      <td>0.725</td>\n",
       "      <td>3</td>\n",
       "      <td>-7.894</td>\n",
       "      <td>1</td>\n",
       "      <td>0.1120</td>\n",
       "      <td>0.011100</td>\n",
       "      <td>0.000000</td>\n",
       "      <td>0.1070</td>\n",
       "      <td>0.7050</td>\n",
       "      <td>100.931</td>\n",
       "      <td>1</td>\n",
       "      <td>1</td>\n",
       "      <td>1.0</td>\n",
       "    </tr>\n",
       "    <tr>\n",
       "      <th>284540</th>\n",
       "      <td>52</td>\n",
       "      <td>0.534</td>\n",
       "      <td>0.957</td>\n",
       "      <td>10</td>\n",
       "      <td>-4.572</td>\n",
       "      <td>0</td>\n",
       "      <td>0.1160</td>\n",
       "      <td>0.000031</td>\n",
       "      <td>0.000005</td>\n",
       "      <td>0.0683</td>\n",
       "      <td>0.3680</td>\n",
       "      <td>125.013</td>\n",
       "      <td>1</td>\n",
       "      <td>0</td>\n",
       "      <td>0.8</td>\n",
       "    </tr>\n",
       "    <tr>\n",
       "      <th>287373</th>\n",
       "      <td>68</td>\n",
       "      <td>0.631</td>\n",
       "      <td>0.440</td>\n",
       "      <td>1</td>\n",
       "      <td>-10.714</td>\n",
       "      <td>1</td>\n",
       "      <td>0.0435</td>\n",
       "      <td>0.529000</td>\n",
       "      <td>0.000000</td>\n",
       "      <td>0.1180</td>\n",
       "      <td>0.2370</td>\n",
       "      <td>119.961</td>\n",
       "      <td>1</td>\n",
       "      <td>0</td>\n",
       "      <td>0.8</td>\n",
       "    </tr>\n",
       "  </tbody>\n",
       "</table>\n",
       "<p>3384 rows × 15 columns</p>\n",
       "</div>"
      ],
      "text/plain": [
       "        popularity  danceability  energy  key  loudness  mode  speechiness  \\\n",
       "0               29         0.475   0.157    0   -13.932     1       0.0307   \n",
       "1               37         0.406   0.742    8    -3.135     1       0.0356   \n",
       "2               25         0.523   0.759    4    -5.652     1       0.0295   \n",
       "3               46         0.603   0.196    6   -14.843     1       0.0443   \n",
       "5               30         0.385   0.233   11   -16.567     0       0.0358   \n",
       "...            ...           ...     ...  ...       ...   ...          ...   \n",
       "275629          73         0.655   0.385    1    -8.967     0       0.0355   \n",
       "277789          63         0.292   0.397    7    -9.161     1       0.0346   \n",
       "284503          52         0.452   0.725    3    -7.894     1       0.1120   \n",
       "284540          52         0.534   0.957   10    -4.572     0       0.1160   \n",
       "287373          68         0.631   0.440    1   -10.714     1       0.0435   \n",
       "\n",
       "        acousticness  instrumentalness  liveness  valence    tempo  is_top200  \\\n",
       "0           0.785000          0.002120    0.1070   0.0806  119.836          0   \n",
       "1           0.215000          0.000410    0.0943   0.5640  179.959          0   \n",
       "2           0.011000          0.000769    0.1090   0.6030   90.026          0   \n",
       "3           0.940000          0.000001    0.0916   0.1600  119.529          0   \n",
       "5           0.937000          0.002000    0.0695   0.1800   78.666          0   \n",
       "...              ...               ...       ...      ...      ...        ...   \n",
       "275629      0.398000          0.005640    0.1120   0.4290  120.016          1   \n",
       "277789      0.755000          0.000000    0.2800   0.1870   86.491          1   \n",
       "284503      0.011100          0.000000    0.1070   0.7050  100.931          1   \n",
       "284540      0.000031          0.000005    0.0683   0.3680  125.013          1   \n",
       "287373      0.529000          0.000000    0.1180   0.2370  119.961          1   \n",
       "\n",
       "        predicted_top200  predicted_top200_prob  \n",
       "0                      0                    0.8  \n",
       "1                      1                    1.0  \n",
       "2                      1                    1.0  \n",
       "3                      0                    0.8  \n",
       "5                      1                    1.0  \n",
       "...                  ...                    ...  \n",
       "275629                 0                    0.6  \n",
       "277789                 1                    1.0  \n",
       "284503                 1                    1.0  \n",
       "284540                 0                    0.8  \n",
       "287373                 0                    0.8  \n",
       "\n",
       "[3384 rows x 15 columns]"
      ]
     },
     "execution_count": 142,
     "metadata": {},
     "output_type": "execute_result"
    }
   ],
   "source": [
    "df_clean['predicted_top200'] = df_clean.apply(lambda x:  knn_optimal.predict(x[feature_cols].values.reshape(1,-1))[0]\\\n",
    "                                               , axis=1)\n",
    "df_clean['predicted_top200_prob'] = df_clean.apply(lambda x:  np.max(knn_optimal.predict_proba(x[feature_cols].values.reshape(1,-1)))\\\n",
    "                                                    , axis=1)\n",
    "print(\"using Version2 in undersampling\")\n",
    "df_clean"
   ]
  },
  {
   "cell_type": "code",
   "execution_count": 136,
   "metadata": {},
   "outputs": [
    {
     "data": {
      "text/plain": [
       "1    3075\n",
       "0     309\n",
       "Name: predicted_top200, dtype: int64"
      ]
     },
     "execution_count": 136,
     "metadata": {},
     "output_type": "execute_result"
    }
   ],
   "source": [
    "df_clean['predicted_top200'].value_counts()"
   ]
  },
  {
   "cell_type": "code",
   "execution_count": 143,
   "metadata": {},
   "outputs": [
    {
     "data": {
      "text/html": [
       "<div>\n",
       "<style scoped>\n",
       "    .dataframe tbody tr th:only-of-type {\n",
       "        vertical-align: middle;\n",
       "    }\n",
       "\n",
       "    .dataframe tbody tr th {\n",
       "        vertical-align: top;\n",
       "    }\n",
       "\n",
       "    .dataframe thead th {\n",
       "        text-align: right;\n",
       "    }\n",
       "</style>\n",
       "<table border=\"1\" class=\"dataframe\">\n",
       "  <thead>\n",
       "    <tr style=\"text-align: right;\">\n",
       "      <th></th>\n",
       "      <th>popularity</th>\n",
       "      <th>danceability</th>\n",
       "      <th>energy</th>\n",
       "      <th>key</th>\n",
       "      <th>loudness</th>\n",
       "      <th>mode</th>\n",
       "      <th>speechiness</th>\n",
       "      <th>acousticness</th>\n",
       "      <th>instrumentalness</th>\n",
       "      <th>liveness</th>\n",
       "      <th>valence</th>\n",
       "      <th>tempo</th>\n",
       "      <th>is_top200</th>\n",
       "      <th>predicted_top200</th>\n",
       "      <th>predicted_top200_prob</th>\n",
       "    </tr>\n",
       "  </thead>\n",
       "  <tbody>\n",
       "    <tr>\n",
       "      <th>1</th>\n",
       "      <td>37</td>\n",
       "      <td>0.406</td>\n",
       "      <td>0.7420</td>\n",
       "      <td>8</td>\n",
       "      <td>-3.135</td>\n",
       "      <td>1</td>\n",
       "      <td>0.0356</td>\n",
       "      <td>0.2150</td>\n",
       "      <td>0.000410</td>\n",
       "      <td>0.0943</td>\n",
       "      <td>0.564</td>\n",
       "      <td>179.959</td>\n",
       "      <td>0</td>\n",
       "      <td>1</td>\n",
       "      <td>1.0</td>\n",
       "    </tr>\n",
       "    <tr>\n",
       "      <th>2</th>\n",
       "      <td>25</td>\n",
       "      <td>0.523</td>\n",
       "      <td>0.7590</td>\n",
       "      <td>4</td>\n",
       "      <td>-5.652</td>\n",
       "      <td>1</td>\n",
       "      <td>0.0295</td>\n",
       "      <td>0.0110</td>\n",
       "      <td>0.000769</td>\n",
       "      <td>0.1090</td>\n",
       "      <td>0.603</td>\n",
       "      <td>90.026</td>\n",
       "      <td>0</td>\n",
       "      <td>1</td>\n",
       "      <td>1.0</td>\n",
       "    </tr>\n",
       "    <tr>\n",
       "      <th>5</th>\n",
       "      <td>30</td>\n",
       "      <td>0.385</td>\n",
       "      <td>0.2330</td>\n",
       "      <td>11</td>\n",
       "      <td>-16.567</td>\n",
       "      <td>0</td>\n",
       "      <td>0.0358</td>\n",
       "      <td>0.9370</td>\n",
       "      <td>0.002000</td>\n",
       "      <td>0.0695</td>\n",
       "      <td>0.180</td>\n",
       "      <td>78.666</td>\n",
       "      <td>0</td>\n",
       "      <td>1</td>\n",
       "      <td>1.0</td>\n",
       "    </tr>\n",
       "    <tr>\n",
       "      <th>6</th>\n",
       "      <td>38</td>\n",
       "      <td>0.653</td>\n",
       "      <td>0.6390</td>\n",
       "      <td>11</td>\n",
       "      <td>-6.385</td>\n",
       "      <td>0</td>\n",
       "      <td>0.0365</td>\n",
       "      <td>0.4030</td>\n",
       "      <td>0.127000</td>\n",
       "      <td>0.0571</td>\n",
       "      <td>0.312</td>\n",
       "      <td>75.981</td>\n",
       "      <td>0</td>\n",
       "      <td>1</td>\n",
       "      <td>1.0</td>\n",
       "    </tr>\n",
       "    <tr>\n",
       "      <th>7</th>\n",
       "      <td>32</td>\n",
       "      <td>0.837</td>\n",
       "      <td>0.0935</td>\n",
       "      <td>6</td>\n",
       "      <td>-14.953</td>\n",
       "      <td>1</td>\n",
       "      <td>0.0474</td>\n",
       "      <td>0.8670</td>\n",
       "      <td>0.000010</td>\n",
       "      <td>0.1110</td>\n",
       "      <td>0.390</td>\n",
       "      <td>105.047</td>\n",
       "      <td>0</td>\n",
       "      <td>1</td>\n",
       "      <td>1.0</td>\n",
       "    </tr>\n",
       "    <tr>\n",
       "      <th>...</th>\n",
       "      <td>...</td>\n",
       "      <td>...</td>\n",
       "      <td>...</td>\n",
       "      <td>...</td>\n",
       "      <td>...</td>\n",
       "      <td>...</td>\n",
       "      <td>...</td>\n",
       "      <td>...</td>\n",
       "      <td>...</td>\n",
       "      <td>...</td>\n",
       "      <td>...</td>\n",
       "      <td>...</td>\n",
       "      <td>...</td>\n",
       "      <td>...</td>\n",
       "      <td>...</td>\n",
       "    </tr>\n",
       "    <tr>\n",
       "      <th>3199</th>\n",
       "      <td>14</td>\n",
       "      <td>0.471</td>\n",
       "      <td>0.8050</td>\n",
       "      <td>9</td>\n",
       "      <td>-7.466</td>\n",
       "      <td>1</td>\n",
       "      <td>0.0780</td>\n",
       "      <td>0.0476</td>\n",
       "      <td>0.000865</td>\n",
       "      <td>0.1420</td>\n",
       "      <td>0.884</td>\n",
       "      <td>174.177</td>\n",
       "      <td>0</td>\n",
       "      <td>1</td>\n",
       "      <td>1.0</td>\n",
       "    </tr>\n",
       "    <tr>\n",
       "      <th>3200</th>\n",
       "      <td>38</td>\n",
       "      <td>0.622</td>\n",
       "      <td>0.2840</td>\n",
       "      <td>9</td>\n",
       "      <td>-7.574</td>\n",
       "      <td>1</td>\n",
       "      <td>0.0325</td>\n",
       "      <td>0.8550</td>\n",
       "      <td>0.000000</td>\n",
       "      <td>0.1070</td>\n",
       "      <td>0.376</td>\n",
       "      <td>73.932</td>\n",
       "      <td>0</td>\n",
       "      <td>1</td>\n",
       "      <td>1.0</td>\n",
       "    </tr>\n",
       "    <tr>\n",
       "      <th>3202</th>\n",
       "      <td>0</td>\n",
       "      <td>0.398</td>\n",
       "      <td>0.3720</td>\n",
       "      <td>5</td>\n",
       "      <td>-8.095</td>\n",
       "      <td>1</td>\n",
       "      <td>0.0319</td>\n",
       "      <td>0.5290</td>\n",
       "      <td>0.002270</td>\n",
       "      <td>0.2710</td>\n",
       "      <td>0.520</td>\n",
       "      <td>99.946</td>\n",
       "      <td>0</td>\n",
       "      <td>1</td>\n",
       "      <td>1.0</td>\n",
       "    </tr>\n",
       "    <tr>\n",
       "      <th>79374</th>\n",
       "      <td>51</td>\n",
       "      <td>0.848</td>\n",
       "      <td>0.6370</td>\n",
       "      <td>10</td>\n",
       "      <td>-6.831</td>\n",
       "      <td>0</td>\n",
       "      <td>0.0422</td>\n",
       "      <td>0.1500</td>\n",
       "      <td>0.000011</td>\n",
       "      <td>0.1460</td>\n",
       "      <td>0.912</td>\n",
       "      <td>120.004</td>\n",
       "      <td>1</td>\n",
       "      <td>0</td>\n",
       "      <td>1.0</td>\n",
       "    </tr>\n",
       "    <tr>\n",
       "      <th>126331</th>\n",
       "      <td>60</td>\n",
       "      <td>0.581</td>\n",
       "      <td>0.3250</td>\n",
       "      <td>0</td>\n",
       "      <td>-11.156</td>\n",
       "      <td>1</td>\n",
       "      <td>0.0461</td>\n",
       "      <td>0.6160</td>\n",
       "      <td>0.000000</td>\n",
       "      <td>0.1330</td>\n",
       "      <td>0.276</td>\n",
       "      <td>122.062</td>\n",
       "      <td>1</td>\n",
       "      <td>0</td>\n",
       "      <td>1.0</td>\n",
       "    </tr>\n",
       "  </tbody>\n",
       "</table>\n",
       "<p>2833 rows × 15 columns</p>\n",
       "</div>"
      ],
      "text/plain": [
       "        popularity  danceability  energy  key  loudness  mode  speechiness  \\\n",
       "1               37         0.406  0.7420    8    -3.135     1       0.0356   \n",
       "2               25         0.523  0.7590    4    -5.652     1       0.0295   \n",
       "5               30         0.385  0.2330   11   -16.567     0       0.0358   \n",
       "6               38         0.653  0.6390   11    -6.385     0       0.0365   \n",
       "7               32         0.837  0.0935    6   -14.953     1       0.0474   \n",
       "...            ...           ...     ...  ...       ...   ...          ...   \n",
       "3199            14         0.471  0.8050    9    -7.466     1       0.0780   \n",
       "3200            38         0.622  0.2840    9    -7.574     1       0.0325   \n",
       "3202             0         0.398  0.3720    5    -8.095     1       0.0319   \n",
       "79374           51         0.848  0.6370   10    -6.831     0       0.0422   \n",
       "126331          60         0.581  0.3250    0   -11.156     1       0.0461   \n",
       "\n",
       "        acousticness  instrumentalness  liveness  valence    tempo  is_top200  \\\n",
       "1             0.2150          0.000410    0.0943    0.564  179.959          0   \n",
       "2             0.0110          0.000769    0.1090    0.603   90.026          0   \n",
       "5             0.9370          0.002000    0.0695    0.180   78.666          0   \n",
       "6             0.4030          0.127000    0.0571    0.312   75.981          0   \n",
       "7             0.8670          0.000010    0.1110    0.390  105.047          0   \n",
       "...              ...               ...       ...      ...      ...        ...   \n",
       "3199          0.0476          0.000865    0.1420    0.884  174.177          0   \n",
       "3200          0.8550          0.000000    0.1070    0.376   73.932          0   \n",
       "3202          0.5290          0.002270    0.2710    0.520   99.946          0   \n",
       "79374         0.1500          0.000011    0.1460    0.912  120.004          1   \n",
       "126331        0.6160          0.000000    0.1330    0.276  122.062          1   \n",
       "\n",
       "        predicted_top200  predicted_top200_prob  \n",
       "1                      1                    1.0  \n",
       "2                      1                    1.0  \n",
       "5                      1                    1.0  \n",
       "6                      1                    1.0  \n",
       "7                      1                    1.0  \n",
       "...                  ...                    ...  \n",
       "3199                   1                    1.0  \n",
       "3200                   1                    1.0  \n",
       "3202                   1                    1.0  \n",
       "79374                  0                    1.0  \n",
       "126331                 0                    1.0  \n",
       "\n",
       "[2833 rows x 15 columns]"
      ]
     },
     "execution_count": 143,
     "metadata": {},
     "output_type": "execute_result"
    }
   ],
   "source": [
    "df_clean[(df_clean['predicted_top200']!=df_clean['is_top200'])&(df_clean['predicted_top200_prob']>0.9)]"
   ]
  },
  {
   "cell_type": "code",
   "execution_count": 144,
   "metadata": {
    "scrolled": true
   },
   "outputs": [
    {
     "data": {
      "text/plain": [
       "1    2831\n",
       "0       2\n",
       "Name: predicted_top200, dtype: int64"
      ]
     },
     "execution_count": 144,
     "metadata": {},
     "output_type": "execute_result"
    }
   ],
   "source": [
    "df_clean[(df_clean['predicted_top200']!=df_clean['is_top200'])&(df_clean['predicted_top200_prob']>0.9)]['predicted_top200'].value_counts()"
   ]
  },
  {
   "cell_type": "code",
   "execution_count": 158,
   "metadata": {},
   "outputs": [
    {
     "data": {
      "text/html": [
       "<div>\n",
       "<style scoped>\n",
       "    .dataframe tbody tr th:only-of-type {\n",
       "        vertical-align: middle;\n",
       "    }\n",
       "\n",
       "    .dataframe tbody tr th {\n",
       "        vertical-align: top;\n",
       "    }\n",
       "\n",
       "    .dataframe thead th {\n",
       "        text-align: right;\n",
       "    }\n",
       "</style>\n",
       "<table border=\"1\" class=\"dataframe\">\n",
       "  <thead>\n",
       "    <tr style=\"text-align: right;\">\n",
       "      <th></th>\n",
       "      <th>popularity</th>\n",
       "      <th>danceability</th>\n",
       "      <th>energy</th>\n",
       "      <th>key</th>\n",
       "      <th>loudness</th>\n",
       "      <th>mode</th>\n",
       "      <th>speechiness</th>\n",
       "      <th>acousticness</th>\n",
       "      <th>instrumentalness</th>\n",
       "      <th>liveness</th>\n",
       "      <th>valence</th>\n",
       "      <th>tempo</th>\n",
       "      <th>is_top200</th>\n",
       "      <th>predicted_top200</th>\n",
       "      <th>predicted_top200_prob</th>\n",
       "    </tr>\n",
       "  </thead>\n",
       "  <tbody>\n",
       "    <tr>\n",
       "      <th>39</th>\n",
       "      <td>65</td>\n",
       "      <td>0.696</td>\n",
       "      <td>0.2620</td>\n",
       "      <td>11</td>\n",
       "      <td>-15.073</td>\n",
       "      <td>1</td>\n",
       "      <td>0.0310</td>\n",
       "      <td>0.5190</td>\n",
       "      <td>0.000000</td>\n",
       "      <td>0.0669</td>\n",
       "      <td>0.265</td>\n",
       "      <td>84.007</td>\n",
       "      <td>1</td>\n",
       "      <td>1</td>\n",
       "      <td>1.0</td>\n",
       "    </tr>\n",
       "    <tr>\n",
       "      <th>45</th>\n",
       "      <td>68</td>\n",
       "      <td>0.686</td>\n",
       "      <td>0.3220</td>\n",
       "      <td>6</td>\n",
       "      <td>-13.200</td>\n",
       "      <td>1</td>\n",
       "      <td>0.0369</td>\n",
       "      <td>0.1650</td>\n",
       "      <td>0.029600</td>\n",
       "      <td>0.0809</td>\n",
       "      <td>0.511</td>\n",
       "      <td>155.982</td>\n",
       "      <td>1</td>\n",
       "      <td>1</td>\n",
       "      <td>1.0</td>\n",
       "    </tr>\n",
       "    <tr>\n",
       "      <th>54</th>\n",
       "      <td>33</td>\n",
       "      <td>0.757</td>\n",
       "      <td>0.6690</td>\n",
       "      <td>11</td>\n",
       "      <td>-8.813</td>\n",
       "      <td>1</td>\n",
       "      <td>0.0385</td>\n",
       "      <td>0.2950</td>\n",
       "      <td>0.027100</td>\n",
       "      <td>0.1110</td>\n",
       "      <td>0.963</td>\n",
       "      <td>113.010</td>\n",
       "      <td>1</td>\n",
       "      <td>1</td>\n",
       "      <td>1.0</td>\n",
       "    </tr>\n",
       "    <tr>\n",
       "      <th>76</th>\n",
       "      <td>63</td>\n",
       "      <td>0.567</td>\n",
       "      <td>0.0896</td>\n",
       "      <td>5</td>\n",
       "      <td>-12.944</td>\n",
       "      <td>1</td>\n",
       "      <td>0.0343</td>\n",
       "      <td>0.7960</td>\n",
       "      <td>0.000000</td>\n",
       "      <td>0.2180</td>\n",
       "      <td>0.367</td>\n",
       "      <td>79.002</td>\n",
       "      <td>1</td>\n",
       "      <td>1</td>\n",
       "      <td>1.0</td>\n",
       "    </tr>\n",
       "    <tr>\n",
       "      <th>77</th>\n",
       "      <td>58</td>\n",
       "      <td>0.662</td>\n",
       "      <td>0.5460</td>\n",
       "      <td>2</td>\n",
       "      <td>-5.868</td>\n",
       "      <td>1</td>\n",
       "      <td>0.0288</td>\n",
       "      <td>0.2040</td>\n",
       "      <td>0.000003</td>\n",
       "      <td>0.1200</td>\n",
       "      <td>0.196</td>\n",
       "      <td>115.053</td>\n",
       "      <td>1</td>\n",
       "      <td>1</td>\n",
       "      <td>1.0</td>\n",
       "    </tr>\n",
       "    <tr>\n",
       "      <th>...</th>\n",
       "      <td>...</td>\n",
       "      <td>...</td>\n",
       "      <td>...</td>\n",
       "      <td>...</td>\n",
       "      <td>...</td>\n",
       "      <td>...</td>\n",
       "      <td>...</td>\n",
       "      <td>...</td>\n",
       "      <td>...</td>\n",
       "      <td>...</td>\n",
       "      <td>...</td>\n",
       "      <td>...</td>\n",
       "      <td>...</td>\n",
       "      <td>...</td>\n",
       "      <td>...</td>\n",
       "    </tr>\n",
       "    <tr>\n",
       "      <th>252165</th>\n",
       "      <td>48</td>\n",
       "      <td>0.421</td>\n",
       "      <td>0.4850</td>\n",
       "      <td>7</td>\n",
       "      <td>-7.446</td>\n",
       "      <td>1</td>\n",
       "      <td>0.0333</td>\n",
       "      <td>0.7970</td>\n",
       "      <td>0.000020</td>\n",
       "      <td>0.1170</td>\n",
       "      <td>0.164</td>\n",
       "      <td>132.172</td>\n",
       "      <td>1</td>\n",
       "      <td>1</td>\n",
       "      <td>1.0</td>\n",
       "    </tr>\n",
       "    <tr>\n",
       "      <th>256797</th>\n",
       "      <td>63</td>\n",
       "      <td>0.746</td>\n",
       "      <td>0.3500</td>\n",
       "      <td>2</td>\n",
       "      <td>-8.649</td>\n",
       "      <td>1</td>\n",
       "      <td>0.0740</td>\n",
       "      <td>0.5720</td>\n",
       "      <td>0.000007</td>\n",
       "      <td>0.1180</td>\n",
       "      <td>0.612</td>\n",
       "      <td>80.026</td>\n",
       "      <td>1</td>\n",
       "      <td>1</td>\n",
       "      <td>1.0</td>\n",
       "    </tr>\n",
       "    <tr>\n",
       "      <th>274962</th>\n",
       "      <td>63</td>\n",
       "      <td>0.229</td>\n",
       "      <td>0.6970</td>\n",
       "      <td>6</td>\n",
       "      <td>-5.298</td>\n",
       "      <td>1</td>\n",
       "      <td>0.0304</td>\n",
       "      <td>0.0342</td>\n",
       "      <td>0.000000</td>\n",
       "      <td>0.0749</td>\n",
       "      <td>0.292</td>\n",
       "      <td>152.236</td>\n",
       "      <td>1</td>\n",
       "      <td>1</td>\n",
       "      <td>1.0</td>\n",
       "    </tr>\n",
       "    <tr>\n",
       "      <th>277789</th>\n",
       "      <td>63</td>\n",
       "      <td>0.292</td>\n",
       "      <td>0.3970</td>\n",
       "      <td>7</td>\n",
       "      <td>-9.161</td>\n",
       "      <td>1</td>\n",
       "      <td>0.0346</td>\n",
       "      <td>0.7550</td>\n",
       "      <td>0.000000</td>\n",
       "      <td>0.2800</td>\n",
       "      <td>0.187</td>\n",
       "      <td>86.491</td>\n",
       "      <td>1</td>\n",
       "      <td>1</td>\n",
       "      <td>1.0</td>\n",
       "    </tr>\n",
       "    <tr>\n",
       "      <th>284503</th>\n",
       "      <td>52</td>\n",
       "      <td>0.452</td>\n",
       "      <td>0.7250</td>\n",
       "      <td>3</td>\n",
       "      <td>-7.894</td>\n",
       "      <td>1</td>\n",
       "      <td>0.1120</td>\n",
       "      <td>0.0111</td>\n",
       "      <td>0.000000</td>\n",
       "      <td>0.1070</td>\n",
       "      <td>0.705</td>\n",
       "      <td>100.931</td>\n",
       "      <td>1</td>\n",
       "      <td>1</td>\n",
       "      <td>1.0</td>\n",
       "    </tr>\n",
       "  </tbody>\n",
       "</table>\n",
       "<p>95 rows × 15 columns</p>\n",
       "</div>"
      ],
      "text/plain": [
       "        popularity  danceability  energy  key  loudness  mode  speechiness  \\\n",
       "39              65         0.696  0.2620   11   -15.073     1       0.0310   \n",
       "45              68         0.686  0.3220    6   -13.200     1       0.0369   \n",
       "54              33         0.757  0.6690   11    -8.813     1       0.0385   \n",
       "76              63         0.567  0.0896    5   -12.944     1       0.0343   \n",
       "77              58         0.662  0.5460    2    -5.868     1       0.0288   \n",
       "...            ...           ...     ...  ...       ...   ...          ...   \n",
       "252165          48         0.421  0.4850    7    -7.446     1       0.0333   \n",
       "256797          63         0.746  0.3500    2    -8.649     1       0.0740   \n",
       "274962          63         0.229  0.6970    6    -5.298     1       0.0304   \n",
       "277789          63         0.292  0.3970    7    -9.161     1       0.0346   \n",
       "284503          52         0.452  0.7250    3    -7.894     1       0.1120   \n",
       "\n",
       "        acousticness  instrumentalness  liveness  valence    tempo  is_top200  \\\n",
       "39            0.5190          0.000000    0.0669    0.265   84.007          1   \n",
       "45            0.1650          0.029600    0.0809    0.511  155.982          1   \n",
       "54            0.2950          0.027100    0.1110    0.963  113.010          1   \n",
       "76            0.7960          0.000000    0.2180    0.367   79.002          1   \n",
       "77            0.2040          0.000003    0.1200    0.196  115.053          1   \n",
       "...              ...               ...       ...      ...      ...        ...   \n",
       "252165        0.7970          0.000020    0.1170    0.164  132.172          1   \n",
       "256797        0.5720          0.000007    0.1180    0.612   80.026          1   \n",
       "274962        0.0342          0.000000    0.0749    0.292  152.236          1   \n",
       "277789        0.7550          0.000000    0.2800    0.187   86.491          1   \n",
       "284503        0.0111          0.000000    0.1070    0.705  100.931          1   \n",
       "\n",
       "        predicted_top200  predicted_top200_prob  \n",
       "39                     1                    1.0  \n",
       "45                     1                    1.0  \n",
       "54                     1                    1.0  \n",
       "76                     1                    1.0  \n",
       "77                     1                    1.0  \n",
       "...                  ...                    ...  \n",
       "252165                 1                    1.0  \n",
       "256797                 1                    1.0  \n",
       "274962                 1                    1.0  \n",
       "277789                 1                    1.0  \n",
       "284503                 1                    1.0  \n",
       "\n",
       "[95 rows x 15 columns]"
      ]
     },
     "execution_count": 158,
     "metadata": {},
     "output_type": "execute_result"
    }
   ],
   "source": [
    "df_clean[(df_clean['predicted_top200'] == df_clean['is_top200'])&(df_clean['is_top200']==1)]"
   ]
  },
  {
   "cell_type": "code",
   "execution_count": 150,
   "metadata": {},
   "outputs": [],
   "source": [
    "df_lola = pd.read_csv('data/artist_data_lola_amour.csv')\n",
    "df_lola = df_lola.rename(columns={\"track_popularity\": \"popularity\"})"
   ]
  },
  {
   "cell_type": "code",
   "execution_count": 160,
   "metadata": {
    "scrolled": true
   },
   "outputs": [
    {
     "name": "stderr",
     "output_type": "stream",
     "text": [
      "D:\\Anaconda\\lib\\site-packages\\seaborn\\distributions.py:2551: FutureWarning: `distplot` is a deprecated function and will be removed in a future version. Please adapt your code to use either `displot` (a figure-level function with similar flexibility) or `histplot` (an axes-level function for histograms).\n",
      "  warnings.warn(msg, FutureWarning)\n",
      "D:\\Anaconda\\lib\\site-packages\\seaborn\\distributions.py:2551: FutureWarning: `distplot` is a deprecated function and will be removed in a future version. Please adapt your code to use either `displot` (a figure-level function with similar flexibility) or `histplot` (an axes-level function for histograms).\n",
      "  warnings.warn(msg, FutureWarning)\n"
     ]
    },
    {
     "data": {
      "image/png": "[encoded data removed]",
      "text/plain": [
       "<Figure size 432x288 with 1 Axes>"
      ]
     },
     "metadata": {
      "needs_background": "light"
     },
     "output_type": "display_data"
    },
    {
     "name": "stderr",
     "output_type": "stream",
     "text": [
      "D:\\Anaconda\\lib\\site-packages\\seaborn\\distributions.py:2551: FutureWarning: `distplot` is a deprecated function and will be removed in a future version. Please adapt your code to use either `displot` (a figure-level function with similar flexibility) or `histplot` (an axes-level function for histograms).\n",
      "  warnings.warn(msg, FutureWarning)\n",
      "D:\\Anaconda\\lib\\site-packages\\seaborn\\distributions.py:2551: FutureWarning: `distplot` is a deprecated function and will be removed in a future version. Please adapt your code to use either `displot` (a figure-level function with similar flexibility) or `histplot` (an axes-level function for histograms).\n",
      "  warnings.warn(msg, FutureWarning)\n"
     ]
    },
    {
     "data": {
      "image/png": "[encoded data removed]",
      "text/plain": [
       "<Figure size 432x288 with 1 Axes>"
      ]
     },
     "metadata": {
      "needs_background": "light"
     },
     "output_type": "display_data"
    },
    {
     "name": "stderr",
     "output_type": "stream",
     "text": [
      "D:\\Anaconda\\lib\\site-packages\\seaborn\\distributions.py:2551: FutureWarning: `distplot` is a deprecated function and will be removed in a future version. Please adapt your code to use either `displot` (a figure-level function with similar flexibility) or `histplot` (an axes-level function for histograms).\n",
      "  warnings.warn(msg, FutureWarning)\n",
      "D:\\Anaconda\\lib\\site-packages\\seaborn\\distributions.py:2551: FutureWarning: `distplot` is a deprecated function and will be removed in a future version. Please adapt your code to use either `displot` (a figure-level function with similar flexibility) or `histplot` (an axes-level function for histograms).\n",
      "  warnings.warn(msg, FutureWarning)\n"
     ]
    },
    {
     "data": {
      "image/png": "[encoded data removed]",
      "text/plain": [
       "<Figure size 432x288 with 1 Axes>"
      ]
     },
     "metadata": {
      "needs_background": "light"
     },
     "output_type": "display_data"
    },
    {
     "name": "stderr",
     "output_type": "stream",
     "text": [
      "D:\\Anaconda\\lib\\site-packages\\seaborn\\distributions.py:2551: FutureWarning: `distplot` is a deprecated function and will be removed in a future version. Please adapt your code to use either `displot` (a figure-level function with similar flexibility) or `histplot` (an axes-level function for histograms).\n",
      "  warnings.warn(msg, FutureWarning)\n",
      "D:\\Anaconda\\lib\\site-packages\\seaborn\\distributions.py:2551: FutureWarning: `distplot` is a deprecated function and will be removed in a future version. Please adapt your code to use either `displot` (a figure-level function with similar flexibility) or `histplot` (an axes-level function for histograms).\n",
      "  warnings.warn(msg, FutureWarning)\n"
     ]
    },
    {
     "data": {
      "image/png": "[encoded data removed]",
      "text/plain": [
       "<Figure size 432x288 with 1 Axes>"
      ]
     },
     "metadata": {
      "needs_background": "light"
     },
     "output_type": "display_data"
    },
    {
     "name": "stderr",
     "output_type": "stream",
     "text": [
      "D:\\Anaconda\\lib\\site-packages\\seaborn\\distributions.py:2551: FutureWarning: `distplot` is a deprecated function and will be removed in a future version. Please adapt your code to use either `displot` (a figure-level function with similar flexibility) or `histplot` (an axes-level function for histograms).\n",
      "  warnings.warn(msg, FutureWarning)\n",
      "D:\\Anaconda\\lib\\site-packages\\seaborn\\distributions.py:2551: FutureWarning: `distplot` is a deprecated function and will be removed in a future version. Please adapt your code to use either `displot` (a figure-level function with similar flexibility) or `histplot` (an axes-level function for histograms).\n",
      "  warnings.warn(msg, FutureWarning)\n"
     ]
    },
    {
     "data": {
      "image/png": "[encoded data removed]",
      "text/plain": [
       "<Figure size 432x288 with 1 Axes>"
      ]
     },
     "metadata": {
      "needs_background": "light"
     },
     "output_type": "display_data"
    },
    {
     "name": "stderr",
     "output_type": "stream",
     "text": [
      "D:\\Anaconda\\lib\\site-packages\\seaborn\\distributions.py:2551: FutureWarning: `distplot` is a deprecated function and will be removed in a future version. Please adapt your code to use either `displot` (a figure-level function with similar flexibility) or `histplot` (an axes-level function for histograms).\n",
      "  warnings.warn(msg, FutureWarning)\n",
      "D:\\Anaconda\\lib\\site-packages\\seaborn\\distributions.py:2551: FutureWarning: `distplot` is a deprecated function and will be removed in a future version. Please adapt your code to use either `displot` (a figure-level function with similar flexibility) or `histplot` (an axes-level function for histograms).\n",
      "  warnings.warn(msg, FutureWarning)\n"
     ]
    },
    {
     "data": {
      "image/png": "[encoded data removed]",
      "text/plain": [
       "<Figure size 432x288 with 1 Axes>"
      ]
     },
     "metadata": {
      "needs_background": "light"
     },
     "output_type": "display_data"
    },
    {
     "name": "stderr",
     "output_type": "stream",
     "text": [
      "D:\\Anaconda\\lib\\site-packages\\seaborn\\distributions.py:2551: FutureWarning: `distplot` is a deprecated function and will be removed in a future version. Please adapt your code to use either `displot` (a figure-level function with similar flexibility) or `histplot` (an axes-level function for histograms).\n",
      "  warnings.warn(msg, FutureWarning)\n",
      "D:\\Anaconda\\lib\\site-packages\\seaborn\\distributions.py:2551: FutureWarning: `distplot` is a deprecated function and will be removed in a future version. Please adapt your code to use either `displot` (a figure-level function with similar flexibility) or `histplot` (an axes-level function for histograms).\n",
      "  warnings.warn(msg, FutureWarning)\n"
     ]
    },
    {
     "data": {
      "image/png": "[encoded data removed]",
      "text/plain": [
       "<Figure size 432x288 with 1 Axes>"
      ]
     },
     "metadata": {
      "needs_background": "light"
     },
     "output_type": "display_data"
    },
    {
     "name": "stderr",
     "output_type": "stream",
     "text": [
      "D:\\Anaconda\\lib\\site-packages\\seaborn\\distributions.py:2551: FutureWarning: `distplot` is a deprecated function and will be removed in a future version. Please adapt your code to use either `displot` (a figure-level function with similar flexibility) or `histplot` (an axes-level function for histograms).\n",
      "  warnings.warn(msg, FutureWarning)\n",
      "D:\\Anaconda\\lib\\site-packages\\seaborn\\distributions.py:2551: FutureWarning: `distplot` is a deprecated function and will be removed in a future version. Please adapt your code to use either `displot` (a figure-level function with similar flexibility) or `histplot` (an axes-level function for histograms).\n",
      "  warnings.warn(msg, FutureWarning)\n"
     ]
    },
    {
     "data": {
      "image/png": "[encoded data removed]",
      "text/plain": [
       "<Figure size 432x288 with 1 Axes>"
      ]
     },
     "metadata": {
      "needs_background": "light"
     },
     "output_type": "display_data"
    },
    {
     "name": "stderr",
     "output_type": "stream",
     "text": [
      "D:\\Anaconda\\lib\\site-packages\\seaborn\\distributions.py:2551: FutureWarning: `distplot` is a deprecated function and will be removed in a future version. Please adapt your code to use either `displot` (a figure-level function with similar flexibility) or `histplot` (an axes-level function for histograms).\n",
      "  warnings.warn(msg, FutureWarning)\n",
      "D:\\Anaconda\\lib\\site-packages\\seaborn\\distributions.py:2551: FutureWarning: `distplot` is a deprecated function and will be removed in a future version. Please adapt your code to use either `displot` (a figure-level function with similar flexibility) or `histplot` (an axes-level function for histograms).\n",
      "  warnings.warn(msg, FutureWarning)\n"
     ]
    },
    {
     "data": {
      "image/png": "[encoded data removed]",
      "text/plain": [
       "<Figure size 432x288 with 1 Axes>"
      ]
     },
     "metadata": {
      "needs_background": "light"
     },
     "output_type": "display_data"
    },
    {
     "name": "stderr",
     "output_type": "stream",
     "text": [
      "D:\\Anaconda\\lib\\site-packages\\seaborn\\distributions.py:2551: FutureWarning: `distplot` is a deprecated function and will be removed in a future version. Please adapt your code to use either `displot` (a figure-level function with similar flexibility) or `histplot` (an axes-level function for histograms).\n",
      "  warnings.warn(msg, FutureWarning)\n",
      "D:\\Anaconda\\lib\\site-packages\\seaborn\\distributions.py:2551: FutureWarning: `distplot` is a deprecated function and will be removed in a future version. Please adapt your code to use either `displot` (a figure-level function with similar flexibility) or `histplot` (an axes-level function for histograms).\n",
      "  warnings.warn(msg, FutureWarning)\n"
     ]
    },
    {
     "data": {
      "image/png": "[encoded data removed]",
      "text/plain": [
       "<Figure size 432x288 with 1 Axes>"
      ]
     },
     "metadata": {
      "needs_background": "light"
     },
     "output_type": "display_data"
    },
    {
     "name": "stderr",
     "output_type": "stream",
     "text": [
      "D:\\Anaconda\\lib\\site-packages\\seaborn\\distributions.py:2551: FutureWarning: `distplot` is a deprecated function and will be removed in a future version. Please adapt your code to use either `displot` (a figure-level function with similar flexibility) or `histplot` (an axes-level function for histograms).\n",
      "  warnings.warn(msg, FutureWarning)\n",
      "D:\\Anaconda\\lib\\site-packages\\seaborn\\distributions.py:2551: FutureWarning: `distplot` is a deprecated function and will be removed in a future version. Please adapt your code to use either `displot` (a figure-level function with similar flexibility) or `histplot` (an axes-level function for histograms).\n",
      "  warnings.warn(msg, FutureWarning)\n"
     ]
    },
    {
     "data": {
      "image/png": "[encoded data removed]",
      "text/plain": [
       "<Figure size 432x288 with 1 Axes>"
      ]
     },
     "metadata": {
      "needs_background": "light"
     },
     "output_type": "display_data"
    },
    {
     "name": "stderr",
     "output_type": "stream",
     "text": [
      "D:\\Anaconda\\lib\\site-packages\\seaborn\\distributions.py:2551: FutureWarning: `distplot` is a deprecated function and will be removed in a future version. Please adapt your code to use either `displot` (a figure-level function with similar flexibility) or `histplot` (an axes-level function for histograms).\n",
      "  warnings.warn(msg, FutureWarning)\n",
      "D:\\Anaconda\\lib\\site-packages\\seaborn\\distributions.py:2551: FutureWarning: `distplot` is a deprecated function and will be removed in a future version. Please adapt your code to use either `displot` (a figure-level function with similar flexibility) or `histplot` (an axes-level function for histograms).\n",
      "  warnings.warn(msg, FutureWarning)\n"
     ]
    },
    {
     "data": {
      "image/png": "[encoded data removed]",
      "text/plain": [
       "<Figure size 432x288 with 1 Axes>"
      ]
     },
     "metadata": {
      "needs_background": "light"
     },
     "output_type": "display_data"
    }
   ],
   "source": [
    "for col in ['popularity', 'danceability', 'energy', 'key',\n",
    "       'loudness', 'mode', 'speechiness', 'acousticness', 'instrumentalness',\n",
    "       'liveness', 'valence', 'tempo']:\n",
    "    fig = plt.figure()\n",
    "    ax= fig.add_subplot(111)\n",
    "    \n",
    "    sns.distplot(df_lola[col], ax=ax, label= 'lola amour')\n",
    "    sns.distplot(df_clean[(df_clean['predicted_top200'] == df_clean['is_top200'])&(df_clean['is_top200']==1)][col], ax=ax, label= 'predicted_top200')\n",
    "    \n",
    "    plt.title(\"Lola Amour vs Prediction_Top200: %s \" % (col))\n",
    "    plt.ylabel('Frequency')\n",
    "    plt.legend(frameon=False)\n",
    "    plt.show()"
   ]
  },
  {
   "cell_type": "code",
   "execution_count": 153,
   "metadata": {
    "scrolled": true
   },
   "outputs": [
    {
     "data": {
      "text/html": [
       "<div>\n",
       "<style scoped>\n",
       "    .dataframe tbody tr th:only-of-type {\n",
       "        vertical-align: middle;\n",
       "    }\n",
       "\n",
       "    .dataframe tbody tr th {\n",
       "        vertical-align: top;\n",
       "    }\n",
       "\n",
       "    .dataframe thead th {\n",
       "        text-align: right;\n",
       "    }\n",
       "</style>\n",
       "<table border=\"1\" class=\"dataframe\">\n",
       "  <thead>\n",
       "    <tr style=\"text-align: right;\">\n",
       "      <th></th>\n",
       "      <th>popularity</th>\n",
       "      <th>danceability</th>\n",
       "      <th>energy</th>\n",
       "      <th>key</th>\n",
       "      <th>loudness</th>\n",
       "      <th>mode</th>\n",
       "      <th>speechiness</th>\n",
       "      <th>acousticness</th>\n",
       "      <th>instrumentalness</th>\n",
       "      <th>liveness</th>\n",
       "      <th>valence</th>\n",
       "      <th>tempo</th>\n",
       "      <th>is_top200</th>\n",
       "      <th>predicted_top200</th>\n",
       "      <th>predicted_top200_prob</th>\n",
       "    </tr>\n",
       "  </thead>\n",
       "  <tbody>\n",
       "    <tr>\n",
       "      <th>count</th>\n",
       "      <td>401.000000</td>\n",
       "      <td>401.000000</td>\n",
       "      <td>401.000000</td>\n",
       "      <td>401.000000</td>\n",
       "      <td>401.000000</td>\n",
       "      <td>401.000000</td>\n",
       "      <td>401.000000</td>\n",
       "      <td>401.000000</td>\n",
       "      <td>401.000000</td>\n",
       "      <td>401.000000</td>\n",
       "      <td>401.000000</td>\n",
       "      <td>401.00000</td>\n",
       "      <td>401.000000</td>\n",
       "      <td>401.000000</td>\n",
       "      <td>401.000000</td>\n",
       "    </tr>\n",
       "    <tr>\n",
       "      <th>mean</th>\n",
       "      <td>26.241895</td>\n",
       "      <td>0.596823</td>\n",
       "      <td>0.556887</td>\n",
       "      <td>5.274314</td>\n",
       "      <td>-8.905723</td>\n",
       "      <td>0.807980</td>\n",
       "      <td>0.052896</td>\n",
       "      <td>0.321971</td>\n",
       "      <td>0.028996</td>\n",
       "      <td>0.164949</td>\n",
       "      <td>0.468307</td>\n",
       "      <td>122.00191</td>\n",
       "      <td>0.236908</td>\n",
       "      <td>0.236908</td>\n",
       "      <td>0.829925</td>\n",
       "    </tr>\n",
       "    <tr>\n",
       "      <th>std</th>\n",
       "      <td>21.221306</td>\n",
       "      <td>0.133887</td>\n",
       "      <td>0.226695</td>\n",
       "      <td>3.390363</td>\n",
       "      <td>3.783286</td>\n",
       "      <td>0.394381</td>\n",
       "      <td>0.050821</td>\n",
       "      <td>0.304683</td>\n",
       "      <td>0.111621</td>\n",
       "      <td>0.109366</td>\n",
       "      <td>0.230790</td>\n",
       "      <td>14.18683</td>\n",
       "      <td>0.425716</td>\n",
       "      <td>0.425716</td>\n",
       "      <td>0.171762</td>\n",
       "    </tr>\n",
       "    <tr>\n",
       "      <th>min</th>\n",
       "      <td>0.000000</td>\n",
       "      <td>0.207000</td>\n",
       "      <td>0.025000</td>\n",
       "      <td>0.000000</td>\n",
       "      <td>-23.651000</td>\n",
       "      <td>0.000000</td>\n",
       "      <td>0.023200</td>\n",
       "      <td>0.000011</td>\n",
       "      <td>0.000000</td>\n",
       "      <td>0.027900</td>\n",
       "      <td>0.033900</td>\n",
       "      <td>52.57200</td>\n",
       "      <td>0.000000</td>\n",
       "      <td>0.000000</td>\n",
       "      <td>0.600000</td>\n",
       "    </tr>\n",
       "    <tr>\n",
       "      <th>25%</th>\n",
       "      <td>6.000000</td>\n",
       "      <td>0.516000</td>\n",
       "      <td>0.375000</td>\n",
       "      <td>2.000000</td>\n",
       "      <td>-10.922000</td>\n",
       "      <td>1.000000</td>\n",
       "      <td>0.031000</td>\n",
       "      <td>0.044200</td>\n",
       "      <td>0.000000</td>\n",
       "      <td>0.093600</td>\n",
       "      <td>0.284000</td>\n",
       "      <td>119.98500</td>\n",
       "      <td>0.000000</td>\n",
       "      <td>0.000000</td>\n",
       "      <td>0.600000</td>\n",
       "    </tr>\n",
       "    <tr>\n",
       "      <th>50%</th>\n",
       "      <td>24.000000</td>\n",
       "      <td>0.606000</td>\n",
       "      <td>0.563000</td>\n",
       "      <td>5.000000</td>\n",
       "      <td>-8.205000</td>\n",
       "      <td>1.000000</td>\n",
       "      <td>0.036100</td>\n",
       "      <td>0.204000</td>\n",
       "      <td>0.000027</td>\n",
       "      <td>0.119000</td>\n",
       "      <td>0.438000</td>\n",
       "      <td>122.16700</td>\n",
       "      <td>0.000000</td>\n",
       "      <td>0.000000</td>\n",
       "      <td>0.800000</td>\n",
       "    </tr>\n",
       "    <tr>\n",
       "      <th>75%</th>\n",
       "      <td>43.000000</td>\n",
       "      <td>0.681000</td>\n",
       "      <td>0.731000</td>\n",
       "      <td>8.000000</td>\n",
       "      <td>-6.387000</td>\n",
       "      <td>1.000000</td>\n",
       "      <td>0.049900</td>\n",
       "      <td>0.573000</td>\n",
       "      <td>0.002090</td>\n",
       "      <td>0.208000</td>\n",
       "      <td>0.633000</td>\n",
       "      <td>125.04100</td>\n",
       "      <td>0.000000</td>\n",
       "      <td>0.000000</td>\n",
       "      <td>1.000000</td>\n",
       "    </tr>\n",
       "    <tr>\n",
       "      <th>max</th>\n",
       "      <td>72.000000</td>\n",
       "      <td>0.963000</td>\n",
       "      <td>0.997000</td>\n",
       "      <td>11.000000</td>\n",
       "      <td>-1.622000</td>\n",
       "      <td>1.000000</td>\n",
       "      <td>0.503000</td>\n",
       "      <td>0.971000</td>\n",
       "      <td>0.880000</td>\n",
       "      <td>0.688000</td>\n",
       "      <td>0.969000</td>\n",
       "      <td>188.74400</td>\n",
       "      <td>1.000000</td>\n",
       "      <td>1.000000</td>\n",
       "      <td>1.000000</td>\n",
       "    </tr>\n",
       "  </tbody>\n",
       "</table>\n",
       "</div>"
      ],
      "text/plain": [
       "       popularity  danceability      energy         key    loudness  \\\n",
       "count  401.000000    401.000000  401.000000  401.000000  401.000000   \n",
       "mean    26.241895      0.596823    0.556887    5.274314   -8.905723   \n",
       "std     21.221306      0.133887    0.226695    3.390363    3.783286   \n",
       "min      0.000000      0.207000    0.025000    0.000000  -23.651000   \n",
       "25%      6.000000      0.516000    0.375000    2.000000  -10.922000   \n",
       "50%     24.000000      0.606000    0.563000    5.000000   -8.205000   \n",
       "75%     43.000000      0.681000    0.731000    8.000000   -6.387000   \n",
       "max     72.000000      0.963000    0.997000   11.000000   -1.622000   \n",
       "\n",
       "             mode  speechiness  acousticness  instrumentalness    liveness  \\\n",
       "count  401.000000   401.000000    401.000000        401.000000  401.000000   \n",
       "mean     0.807980     0.052896      0.321971          0.028996    0.164949   \n",
       "std      0.394381     0.050821      0.304683          0.111621    0.109366   \n",
       "min      0.000000     0.023200      0.000011          0.000000    0.027900   \n",
       "25%      1.000000     0.031000      0.044200          0.000000    0.093600   \n",
       "50%      1.000000     0.036100      0.204000          0.000027    0.119000   \n",
       "75%      1.000000     0.049900      0.573000          0.002090    0.208000   \n",
       "max      1.000000     0.503000      0.971000          0.880000    0.688000   \n",
       "\n",
       "          valence      tempo   is_top200  predicted_top200  \\\n",
       "count  401.000000  401.00000  401.000000        401.000000   \n",
       "mean     0.468307  122.00191    0.236908          0.236908   \n",
       "std      0.230790   14.18683    0.425716          0.425716   \n",
       "min      0.033900   52.57200    0.000000          0.000000   \n",
       "25%      0.284000  119.98500    0.000000          0.000000   \n",
       "50%      0.438000  122.16700    0.000000          0.000000   \n",
       "75%      0.633000  125.04100    0.000000          0.000000   \n",
       "max      0.969000  188.74400    1.000000          1.000000   \n",
       "\n",
       "       predicted_top200_prob  \n",
       "count             401.000000  \n",
       "mean                0.829925  \n",
       "std                 0.171762  \n",
       "min                 0.600000  \n",
       "25%                 0.600000  \n",
       "50%                 0.800000  \n",
       "75%                 1.000000  \n",
       "max                 1.000000  "
      ]
     },
     "execution_count": 153,
     "metadata": {},
     "output_type": "execute_result"
    }
   ],
   "source": [
    "df_clean[(df_clean['predicted_top200'] == df_clean['is_top200'])].describe()"
   ]
  },
  {
   "cell_type": "markdown",
   "metadata": {},
   "source": [
    "### Predicted df"
   ]
  },
  {
   "cell_type": "code",
   "execution_count": 156,
   "metadata": {},
   "outputs": [],
   "source": [
    "# df_clean[(df_clean['predicted_top200'] == df_clean['is_top200'])].to_csv('data/predicted_top_200_features.csv', index=False, encoding='utf-8')"
   ]
  }
 ],
 "metadata": {
  "kernelspec": {
   "display_name": "Python 3",
   "language": "python",
   "name": "python3"
  },
  "language_info": {
   "codemirror_mode": {
    "name": "ipython",
    "version": 3
   },
   "file_extension": ".py",
   "mimetype": "text/x-python",
   "name": "python",
   "nbconvert_exporter": "python",
   "pygments_lexer": "ipython3",
   "version": "3.8.5"
  }
 },
 "nbformat": 4,
 "nbformat_minor": 4
}
